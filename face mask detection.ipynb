{
  "nbformat": 4,
  "nbformat_minor": 0,
  "metadata": {
    "colab": {
      "name": "B19CSE046,B19CSE060.ipynb",
      "provenance": []
    },
    "kernelspec": {
      "name": "python3",
      "display_name": "Python 3"
    },
    "language_info": {
      "name": "python"
    }
  },
  "cells": [
    {
      "cell_type": "markdown",
      "metadata": {
        "id": "IXkPc_4anQQ9"
      },
      "source": [
        "**Dependencies**:\n"
      ]
    },
    {
      "cell_type": "code",
      "metadata": {
        "id": "8sRfxa4Nr05-"
      },
      "source": [
        "import numpy as np\n",
        "import pandas as pd\n",
        "import cv2\n",
        "import glob\n",
        "import seaborn as sns"
      ],
      "execution_count": 1,
      "outputs": []
    },
    {
      "cell_type": "markdown",
      "metadata": {
        "id": "TyyRkDBSnUe6"
      },
      "source": [
        "**Mounting Drive**\n"
      ]
    },
    {
      "cell_type": "code",
      "metadata": {
        "colab": {
          "base_uri": "https://localhost:8080/"
        },
        "id": "2kUNB4RogSkt",
        "outputId": "e7b44cf2-f21c-4804-c0e5-45615af5d685"
      },
      "source": [
        "from google.colab import drive\n",
        "drive.mount('/content/drive')"
      ],
      "execution_count": 2,
      "outputs": [
        {
          "output_type": "stream",
          "text": [
            "Drive already mounted at /content/drive; to attempt to forcibly remount, call drive.mount(\"/content/drive\", force_remount=True).\n"
          ],
          "name": "stdout"
        }
      ]
    },
    {
      "cell_type": "markdown",
      "metadata": {
        "id": "xWKAH6a8nXYF"
      },
      "source": [
        "**Importing Datasets**\n"
      ]
    },
    {
      "cell_type": "code",
      "metadata": {
        "id": "QjDFoDZir0yU"
      },
      "source": [
        "Nonmaskedimages = [cv2.imread(file) for file in glob.glob('/content/drive/MyDrive/Colab Notebooks/Kaggle/Non masked/*.jpg')]"
      ],
      "execution_count": 3,
      "outputs": []
    },
    {
      "cell_type": "code",
      "metadata": {
        "id": "muuZjrUizN_V"
      },
      "source": [
        "Maskedimages = [cv2.imread(file) for file in glob.glob('/content/drive/MyDrive/Colab Notebooks/Kaggle/Masked/*/*.jpg')]"
      ],
      "execution_count": 4,
      "outputs": []
    },
    {
      "cell_type": "code",
      "metadata": {
        "colab": {
          "base_uri": "https://localhost:8080/"
        },
        "id": "54rhU0ff1dUL",
        "outputId": "8dbc8475-b234-4e8d-d657-5be00e26f47e"
      },
      "source": [
        "len(Maskedimages)"
      ],
      "execution_count": 5,
      "outputs": [
        {
          "output_type": "execute_result",
          "data": {
            "text/plain": [
              "447"
            ]
          },
          "metadata": {
            "tags": []
          },
          "execution_count": 5
        }
      ]
    },
    {
      "cell_type": "code",
      "metadata": {
        "id": "eDDKP8n4r0kg"
      },
      "source": [
        "# len(images)"
      ],
      "execution_count": 6,
      "outputs": []
    },
    {
      "cell_type": "code",
      "metadata": {
        "id": "BuyOsMeMy0tN",
        "colab": {
          "base_uri": "https://localhost:8080/"
        },
        "outputId": "eb09488b-c52f-4a6c-d152-ae8c48b504c7"
      },
      "source": [
        "Nonmask=np.array(Nonmaskedimages)\n",
        "mask=np.array(Maskedimages)"
      ],
      "execution_count": 7,
      "outputs": [
        {
          "output_type": "stream",
          "text": [
            "/usr/local/lib/python3.7/dist-packages/ipykernel_launcher.py:1: VisibleDeprecationWarning: Creating an ndarray from ragged nested sequences (which is a list-or-tuple of lists-or-tuples-or ndarrays with different lengths or shapes) is deprecated. If you meant to do this, you must specify 'dtype=object' when creating the ndarray\n",
            "  \"\"\"Entry point for launching an IPython kernel.\n",
            "/usr/local/lib/python3.7/dist-packages/ipykernel_launcher.py:2: VisibleDeprecationWarning: Creating an ndarray from ragged nested sequences (which is a list-or-tuple of lists-or-tuples-or ndarrays with different lengths or shapes) is deprecated. If you meant to do this, you must specify 'dtype=object' when creating the ndarray\n",
            "  \n"
          ],
          "name": "stderr"
        }
      ]
    },
    {
      "cell_type": "markdown",
      "metadata": {
        "id": "xOw-M6u0Us_T"
      },
      "source": [
        "Dataframe for masked images"
      ]
    },
    {
      "cell_type": "code",
      "metadata": {
        "id": "90dciVSLFPKP"
      },
      "source": [
        "masked=[]\n",
        "for h in range(len(mask)):\n",
        "  mask[h]=cv2.resize(mask[h],(128,128))\n",
        "  ll=[]\n",
        "  lh=len(mask[h])\n",
        "  for i in range(lh):\n",
        "    li=len(mask[h][i])\n",
        "    for j in range(li):\n",
        "      for k in mask[h][i][j]:\n",
        "        ll.append(k)\n",
        "\n",
        "  masked.append(ll)"
      ],
      "execution_count": 8,
      "outputs": []
    },
    {
      "cell_type": "code",
      "metadata": {
        "id": "KIoddUfFJyLV"
      },
      "source": [
        "maskdf=pd.DataFrame(masked)\n",
        "maskdf.insert(loc=0,column='target',value=np.ones(len(masked)))\n",
        "del masked"
      ],
      "execution_count": 9,
      "outputs": []
    },
    {
      "cell_type": "code",
      "metadata": {
        "id": "7CJP_mrtJ9mT"
      },
      "source": [
        "# maskdf"
      ],
      "execution_count": 10,
      "outputs": []
    },
    {
      "cell_type": "code",
      "metadata": {
        "id": "KEbP21OXRh_4"
      },
      "source": [
        ""
      ],
      "execution_count": 10,
      "outputs": []
    },
    {
      "cell_type": "markdown",
      "metadata": {
        "id": "lWgGX2cYUyAC"
      },
      "source": [
        "Dataframe for Nonmasked images"
      ]
    },
    {
      "cell_type": "code",
      "metadata": {
        "id": "uBgKWdCiRnpT"
      },
      "source": [
        "Nonmasked=[]\n",
        "for h in range(len(Nonmask)):\n",
        "  Nonmask[h]=cv2.resize(Nonmask[h],(128,128))\n",
        "  ll=[]\n",
        "  lh=len(Nonmask[h])\n",
        "  for i in range(lh):\n",
        "    li=len(Nonmask[h][i])\n",
        "    for j in range(li):\n",
        "      for k in Nonmask[h][i][j]:\n",
        "        ll.append(k)\n",
        "  Nonmasked.append(ll)"
      ],
      "execution_count": 11,
      "outputs": []
    },
    {
      "cell_type": "code",
      "metadata": {
        "id": "ok2yVi3tRnmm"
      },
      "source": [
        "Nonmaskdf=pd.DataFrame(Nonmasked)\n",
        "Nonmaskdf.insert(loc=0,column='target',value=np.zeros(len(Nonmasked)))\n",
        "del Nonmasked"
      ],
      "execution_count": 12,
      "outputs": []
    },
    {
      "cell_type": "code",
      "metadata": {
        "id": "4m5iCve6RraI"
      },
      "source": [
        "# Nonmaskdf"
      ],
      "execution_count": 13,
      "outputs": []
    },
    {
      "cell_type": "code",
      "metadata": {
        "id": "mEPYNYTJRrPe"
      },
      "source": [
        ""
      ],
      "execution_count": 13,
      "outputs": []
    },
    {
      "cell_type": "code",
      "metadata": {
        "id": "5IdWlIkXRrJN"
      },
      "source": [
        ""
      ],
      "execution_count": 13,
      "outputs": []
    },
    {
      "cell_type": "markdown",
      "metadata": {
        "id": "DMan6R9LU1OV"
      },
      "source": [
        "**Final dataframe**\n"
      ]
    },
    {
      "cell_type": "code",
      "metadata": {
        "id": "ldMrd7QOArb6"
      },
      "source": [
        "df=pd.DataFrame()\n",
        "df=df.append(maskdf)\n",
        "df=df.append(Nonmaskdf)\n",
        "# df\n",
        "del maskdf\n",
        "del Nonmaskdf"
      ],
      "execution_count": 14,
      "outputs": []
    },
    {
      "cell_type": "code",
      "metadata": {
        "id": "LFJWnvBnb6V2"
      },
      "source": [
        "# del maskdf\n",
        "# del Nonmaskdf"
      ],
      "execution_count": 15,
      "outputs": []
    },
    {
      "cell_type": "code",
      "metadata": {
        "id": "TgZ5sjOVBWKx"
      },
      "source": [
        "# df.shape"
      ],
      "execution_count": 16,
      "outputs": []
    },
    {
      "cell_type": "code",
      "metadata": {
        "id": "8T5NgIghA_Up",
        "colab": {
          "base_uri": "https://localhost:8080/",
          "height": 244
        },
        "outputId": "80efede3-96f7-40f7-e6d4-545740d73335"
      },
      "source": [
        " df.head()"
      ],
      "execution_count": 17,
      "outputs": [
        {
          "output_type": "execute_result",
          "data": {
            "text/html": [
              "<div>\n",
              "<style scoped>\n",
              "    .dataframe tbody tr th:only-of-type {\n",
              "        vertical-align: middle;\n",
              "    }\n",
              "\n",
              "    .dataframe tbody tr th {\n",
              "        vertical-align: top;\n",
              "    }\n",
              "\n",
              "    .dataframe thead th {\n",
              "        text-align: right;\n",
              "    }\n",
              "</style>\n",
              "<table border=\"1\" class=\"dataframe\">\n",
              "  <thead>\n",
              "    <tr style=\"text-align: right;\">\n",
              "      <th></th>\n",
              "      <th>target</th>\n",
              "      <th>0</th>\n",
              "      <th>1</th>\n",
              "      <th>2</th>\n",
              "      <th>3</th>\n",
              "      <th>4</th>\n",
              "      <th>5</th>\n",
              "      <th>6</th>\n",
              "      <th>7</th>\n",
              "      <th>8</th>\n",
              "      <th>9</th>\n",
              "      <th>10</th>\n",
              "      <th>11</th>\n",
              "      <th>12</th>\n",
              "      <th>13</th>\n",
              "      <th>14</th>\n",
              "      <th>15</th>\n",
              "      <th>16</th>\n",
              "      <th>17</th>\n",
              "      <th>18</th>\n",
              "      <th>19</th>\n",
              "      <th>20</th>\n",
              "      <th>21</th>\n",
              "      <th>22</th>\n",
              "      <th>23</th>\n",
              "      <th>24</th>\n",
              "      <th>25</th>\n",
              "      <th>26</th>\n",
              "      <th>27</th>\n",
              "      <th>28</th>\n",
              "      <th>29</th>\n",
              "      <th>30</th>\n",
              "      <th>31</th>\n",
              "      <th>32</th>\n",
              "      <th>33</th>\n",
              "      <th>34</th>\n",
              "      <th>35</th>\n",
              "      <th>36</th>\n",
              "      <th>37</th>\n",
              "      <th>38</th>\n",
              "      <th>...</th>\n",
              "      <th>49112</th>\n",
              "      <th>49113</th>\n",
              "      <th>49114</th>\n",
              "      <th>49115</th>\n",
              "      <th>49116</th>\n",
              "      <th>49117</th>\n",
              "      <th>49118</th>\n",
              "      <th>49119</th>\n",
              "      <th>49120</th>\n",
              "      <th>49121</th>\n",
              "      <th>49122</th>\n",
              "      <th>49123</th>\n",
              "      <th>49124</th>\n",
              "      <th>49125</th>\n",
              "      <th>49126</th>\n",
              "      <th>49127</th>\n",
              "      <th>49128</th>\n",
              "      <th>49129</th>\n",
              "      <th>49130</th>\n",
              "      <th>49131</th>\n",
              "      <th>49132</th>\n",
              "      <th>49133</th>\n",
              "      <th>49134</th>\n",
              "      <th>49135</th>\n",
              "      <th>49136</th>\n",
              "      <th>49137</th>\n",
              "      <th>49138</th>\n",
              "      <th>49139</th>\n",
              "      <th>49140</th>\n",
              "      <th>49141</th>\n",
              "      <th>49142</th>\n",
              "      <th>49143</th>\n",
              "      <th>49144</th>\n",
              "      <th>49145</th>\n",
              "      <th>49146</th>\n",
              "      <th>49147</th>\n",
              "      <th>49148</th>\n",
              "      <th>49149</th>\n",
              "      <th>49150</th>\n",
              "      <th>49151</th>\n",
              "    </tr>\n",
              "  </thead>\n",
              "  <tbody>\n",
              "    <tr>\n",
              "      <th>0</th>\n",
              "      <td>1.0</td>\n",
              "      <td>96</td>\n",
              "      <td>80</td>\n",
              "      <td>68</td>\n",
              "      <td>96</td>\n",
              "      <td>80</td>\n",
              "      <td>68</td>\n",
              "      <td>97</td>\n",
              "      <td>81</td>\n",
              "      <td>69</td>\n",
              "      <td>96</td>\n",
              "      <td>80</td>\n",
              "      <td>69</td>\n",
              "      <td>95</td>\n",
              "      <td>78</td>\n",
              "      <td>69</td>\n",
              "      <td>94</td>\n",
              "      <td>78</td>\n",
              "      <td>69</td>\n",
              "      <td>94</td>\n",
              "      <td>77</td>\n",
              "      <td>68</td>\n",
              "      <td>94</td>\n",
              "      <td>76</td>\n",
              "      <td>68</td>\n",
              "      <td>94</td>\n",
              "      <td>76</td>\n",
              "      <td>69</td>\n",
              "      <td>96</td>\n",
              "      <td>78</td>\n",
              "      <td>71</td>\n",
              "      <td>96</td>\n",
              "      <td>78</td>\n",
              "      <td>72</td>\n",
              "      <td>93</td>\n",
              "      <td>75</td>\n",
              "      <td>69</td>\n",
              "      <td>91</td>\n",
              "      <td>72</td>\n",
              "      <td>67</td>\n",
              "      <td>...</td>\n",
              "      <td>89</td>\n",
              "      <td>104</td>\n",
              "      <td>96</td>\n",
              "      <td>89</td>\n",
              "      <td>104</td>\n",
              "      <td>96</td>\n",
              "      <td>89</td>\n",
              "      <td>105</td>\n",
              "      <td>97</td>\n",
              "      <td>90</td>\n",
              "      <td>105</td>\n",
              "      <td>97</td>\n",
              "      <td>90</td>\n",
              "      <td>105</td>\n",
              "      <td>97</td>\n",
              "      <td>90</td>\n",
              "      <td>105</td>\n",
              "      <td>97</td>\n",
              "      <td>90</td>\n",
              "      <td>106</td>\n",
              "      <td>98</td>\n",
              "      <td>91</td>\n",
              "      <td>106</td>\n",
              "      <td>98</td>\n",
              "      <td>91</td>\n",
              "      <td>106</td>\n",
              "      <td>98</td>\n",
              "      <td>91</td>\n",
              "      <td>106</td>\n",
              "      <td>98</td>\n",
              "      <td>91</td>\n",
              "      <td>106</td>\n",
              "      <td>98</td>\n",
              "      <td>91</td>\n",
              "      <td>107</td>\n",
              "      <td>99</td>\n",
              "      <td>92</td>\n",
              "      <td>107</td>\n",
              "      <td>99</td>\n",
              "      <td>92</td>\n",
              "    </tr>\n",
              "    <tr>\n",
              "      <th>1</th>\n",
              "      <td>1.0</td>\n",
              "      <td>12</td>\n",
              "      <td>8</td>\n",
              "      <td>74</td>\n",
              "      <td>11</td>\n",
              "      <td>8</td>\n",
              "      <td>75</td>\n",
              "      <td>11</td>\n",
              "      <td>10</td>\n",
              "      <td>74</td>\n",
              "      <td>12</td>\n",
              "      <td>11</td>\n",
              "      <td>73</td>\n",
              "      <td>12</td>\n",
              "      <td>12</td>\n",
              "      <td>72</td>\n",
              "      <td>14</td>\n",
              "      <td>11</td>\n",
              "      <td>72</td>\n",
              "      <td>16</td>\n",
              "      <td>13</td>\n",
              "      <td>80</td>\n",
              "      <td>34</td>\n",
              "      <td>30</td>\n",
              "      <td>105</td>\n",
              "      <td>44</td>\n",
              "      <td>43</td>\n",
              "      <td>124</td>\n",
              "      <td>46</td>\n",
              "      <td>46</td>\n",
              "      <td>130</td>\n",
              "      <td>45</td>\n",
              "      <td>46</td>\n",
              "      <td>132</td>\n",
              "      <td>37</td>\n",
              "      <td>38</td>\n",
              "      <td>125</td>\n",
              "      <td>35</td>\n",
              "      <td>36</td>\n",
              "      <td>126</td>\n",
              "      <td>...</td>\n",
              "      <td>252</td>\n",
              "      <td>229</td>\n",
              "      <td>238</td>\n",
              "      <td>252</td>\n",
              "      <td>232</td>\n",
              "      <td>241</td>\n",
              "      <td>253</td>\n",
              "      <td>235</td>\n",
              "      <td>244</td>\n",
              "      <td>254</td>\n",
              "      <td>235</td>\n",
              "      <td>245</td>\n",
              "      <td>252</td>\n",
              "      <td>236</td>\n",
              "      <td>246</td>\n",
              "      <td>253</td>\n",
              "      <td>237</td>\n",
              "      <td>247</td>\n",
              "      <td>254</td>\n",
              "      <td>236</td>\n",
              "      <td>247</td>\n",
              "      <td>251</td>\n",
              "      <td>233</td>\n",
              "      <td>246</td>\n",
              "      <td>254</td>\n",
              "      <td>232</td>\n",
              "      <td>244</td>\n",
              "      <td>254</td>\n",
              "      <td>233</td>\n",
              "      <td>245</td>\n",
              "      <td>255</td>\n",
              "      <td>233</td>\n",
              "      <td>246</td>\n",
              "      <td>254</td>\n",
              "      <td>231</td>\n",
              "      <td>243</td>\n",
              "      <td>252</td>\n",
              "      <td>229</td>\n",
              "      <td>240</td>\n",
              "      <td>254</td>\n",
              "    </tr>\n",
              "    <tr>\n",
              "      <th>2</th>\n",
              "      <td>1.0</td>\n",
              "      <td>134</td>\n",
              "      <td>160</td>\n",
              "      <td>224</td>\n",
              "      <td>134</td>\n",
              "      <td>159</td>\n",
              "      <td>223</td>\n",
              "      <td>133</td>\n",
              "      <td>159</td>\n",
              "      <td>225</td>\n",
              "      <td>126</td>\n",
              "      <td>152</td>\n",
              "      <td>222</td>\n",
              "      <td>119</td>\n",
              "      <td>145</td>\n",
              "      <td>219</td>\n",
              "      <td>104</td>\n",
              "      <td>131</td>\n",
              "      <td>210</td>\n",
              "      <td>85</td>\n",
              "      <td>114</td>\n",
              "      <td>196</td>\n",
              "      <td>62</td>\n",
              "      <td>93</td>\n",
              "      <td>177</td>\n",
              "      <td>48</td>\n",
              "      <td>80</td>\n",
              "      <td>170</td>\n",
              "      <td>41</td>\n",
              "      <td>71</td>\n",
              "      <td>166</td>\n",
              "      <td>38</td>\n",
              "      <td>67</td>\n",
              "      <td>165</td>\n",
              "      <td>32</td>\n",
              "      <td>59</td>\n",
              "      <td>157</td>\n",
              "      <td>28</td>\n",
              "      <td>53</td>\n",
              "      <td>152</td>\n",
              "      <td>...</td>\n",
              "      <td>252</td>\n",
              "      <td>169</td>\n",
              "      <td>190</td>\n",
              "      <td>254</td>\n",
              "      <td>188</td>\n",
              "      <td>205</td>\n",
              "      <td>255</td>\n",
              "      <td>193</td>\n",
              "      <td>206</td>\n",
              "      <td>254</td>\n",
              "      <td>198</td>\n",
              "      <td>210</td>\n",
              "      <td>253</td>\n",
              "      <td>203</td>\n",
              "      <td>213</td>\n",
              "      <td>253</td>\n",
              "      <td>208</td>\n",
              "      <td>215</td>\n",
              "      <td>255</td>\n",
              "      <td>210</td>\n",
              "      <td>217</td>\n",
              "      <td>255</td>\n",
              "      <td>210</td>\n",
              "      <td>218</td>\n",
              "      <td>255</td>\n",
              "      <td>212</td>\n",
              "      <td>219</td>\n",
              "      <td>254</td>\n",
              "      <td>214</td>\n",
              "      <td>220</td>\n",
              "      <td>255</td>\n",
              "      <td>214</td>\n",
              "      <td>220</td>\n",
              "      <td>255</td>\n",
              "      <td>215</td>\n",
              "      <td>222</td>\n",
              "      <td>255</td>\n",
              "      <td>216</td>\n",
              "      <td>224</td>\n",
              "      <td>254</td>\n",
              "    </tr>\n",
              "    <tr>\n",
              "      <th>3</th>\n",
              "      <td>1.0</td>\n",
              "      <td>27</td>\n",
              "      <td>56</td>\n",
              "      <td>76</td>\n",
              "      <td>31</td>\n",
              "      <td>58</td>\n",
              "      <td>80</td>\n",
              "      <td>30</td>\n",
              "      <td>57</td>\n",
              "      <td>78</td>\n",
              "      <td>25</td>\n",
              "      <td>51</td>\n",
              "      <td>72</td>\n",
              "      <td>19</td>\n",
              "      <td>43</td>\n",
              "      <td>65</td>\n",
              "      <td>16</td>\n",
              "      <td>40</td>\n",
              "      <td>62</td>\n",
              "      <td>20</td>\n",
              "      <td>47</td>\n",
              "      <td>68</td>\n",
              "      <td>25</td>\n",
              "      <td>53</td>\n",
              "      <td>74</td>\n",
              "      <td>29</td>\n",
              "      <td>58</td>\n",
              "      <td>79</td>\n",
              "      <td>34</td>\n",
              "      <td>63</td>\n",
              "      <td>84</td>\n",
              "      <td>37</td>\n",
              "      <td>63</td>\n",
              "      <td>86</td>\n",
              "      <td>38</td>\n",
              "      <td>62</td>\n",
              "      <td>86</td>\n",
              "      <td>37</td>\n",
              "      <td>58</td>\n",
              "      <td>85</td>\n",
              "      <td>...</td>\n",
              "      <td>44</td>\n",
              "      <td>37</td>\n",
              "      <td>42</td>\n",
              "      <td>42</td>\n",
              "      <td>36</td>\n",
              "      <td>41</td>\n",
              "      <td>42</td>\n",
              "      <td>33</td>\n",
              "      <td>38</td>\n",
              "      <td>39</td>\n",
              "      <td>33</td>\n",
              "      <td>39</td>\n",
              "      <td>40</td>\n",
              "      <td>30</td>\n",
              "      <td>38</td>\n",
              "      <td>38</td>\n",
              "      <td>30</td>\n",
              "      <td>39</td>\n",
              "      <td>39</td>\n",
              "      <td>32</td>\n",
              "      <td>40</td>\n",
              "      <td>40</td>\n",
              "      <td>25</td>\n",
              "      <td>32</td>\n",
              "      <td>32</td>\n",
              "      <td>26</td>\n",
              "      <td>31</td>\n",
              "      <td>31</td>\n",
              "      <td>24</td>\n",
              "      <td>27</td>\n",
              "      <td>28</td>\n",
              "      <td>25</td>\n",
              "      <td>27</td>\n",
              "      <td>27</td>\n",
              "      <td>26</td>\n",
              "      <td>26</td>\n",
              "      <td>26</td>\n",
              "      <td>27</td>\n",
              "      <td>27</td>\n",
              "      <td>27</td>\n",
              "    </tr>\n",
              "    <tr>\n",
              "      <th>4</th>\n",
              "      <td>1.0</td>\n",
              "      <td>62</td>\n",
              "      <td>77</td>\n",
              "      <td>96</td>\n",
              "      <td>67</td>\n",
              "      <td>83</td>\n",
              "      <td>102</td>\n",
              "      <td>72</td>\n",
              "      <td>88</td>\n",
              "      <td>107</td>\n",
              "      <td>73</td>\n",
              "      <td>90</td>\n",
              "      <td>109</td>\n",
              "      <td>71</td>\n",
              "      <td>88</td>\n",
              "      <td>107</td>\n",
              "      <td>67</td>\n",
              "      <td>85</td>\n",
              "      <td>104</td>\n",
              "      <td>67</td>\n",
              "      <td>85</td>\n",
              "      <td>104</td>\n",
              "      <td>69</td>\n",
              "      <td>87</td>\n",
              "      <td>105</td>\n",
              "      <td>70</td>\n",
              "      <td>91</td>\n",
              "      <td>108</td>\n",
              "      <td>73</td>\n",
              "      <td>93</td>\n",
              "      <td>111</td>\n",
              "      <td>71</td>\n",
              "      <td>91</td>\n",
              "      <td>112</td>\n",
              "      <td>70</td>\n",
              "      <td>91</td>\n",
              "      <td>113</td>\n",
              "      <td>70</td>\n",
              "      <td>91</td>\n",
              "      <td>113</td>\n",
              "      <td>...</td>\n",
              "      <td>196</td>\n",
              "      <td>220</td>\n",
              "      <td>214</td>\n",
              "      <td>200</td>\n",
              "      <td>222</td>\n",
              "      <td>218</td>\n",
              "      <td>203</td>\n",
              "      <td>225</td>\n",
              "      <td>222</td>\n",
              "      <td>207</td>\n",
              "      <td>227</td>\n",
              "      <td>225</td>\n",
              "      <td>211</td>\n",
              "      <td>227</td>\n",
              "      <td>226</td>\n",
              "      <td>212</td>\n",
              "      <td>227</td>\n",
              "      <td>226</td>\n",
              "      <td>212</td>\n",
              "      <td>227</td>\n",
              "      <td>225</td>\n",
              "      <td>211</td>\n",
              "      <td>227</td>\n",
              "      <td>224</td>\n",
              "      <td>209</td>\n",
              "      <td>225</td>\n",
              "      <td>222</td>\n",
              "      <td>207</td>\n",
              "      <td>224</td>\n",
              "      <td>221</td>\n",
              "      <td>207</td>\n",
              "      <td>224</td>\n",
              "      <td>221</td>\n",
              "      <td>208</td>\n",
              "      <td>225</td>\n",
              "      <td>222</td>\n",
              "      <td>208</td>\n",
              "      <td>225</td>\n",
              "      <td>222</td>\n",
              "      <td>208</td>\n",
              "    </tr>\n",
              "  </tbody>\n",
              "</table>\n",
              "<p>5 rows × 49153 columns</p>\n",
              "</div>"
            ],
            "text/plain": [
              "   target    0    1    2    3    4  ...  49146  49147  49148  49149  49150  49151\n",
              "0     1.0   96   80   68   96   80  ...    107     99     92    107     99     92\n",
              "1     1.0   12    8   74   11    8  ...    231    243    252    229    240    254\n",
              "2     1.0  134  160  224  134  159  ...    215    222    255    216    224    254\n",
              "3     1.0   27   56   76   31   58  ...     26     26     26     27     27     27\n",
              "4     1.0   62   77   96   67   83  ...    225    222    208    225    222    208\n",
              "\n",
              "[5 rows x 49153 columns]"
            ]
          },
          "metadata": {
            "tags": []
          },
          "execution_count": 17
        }
      ]
    },
    {
      "cell_type": "code",
      "metadata": {
        "id": "5L2-zmcNy0YB"
      },
      "source": [
        ""
      ],
      "execution_count": 17,
      "outputs": []
    },
    {
      "cell_type": "markdown",
      "metadata": {
        "id": "81hxzfrLVXZR"
      },
      "source": [
        "###_CONCISE **SUMMARY** AND IDENTIFICATION OF **DATA TYPES**_\n",
        "\n"
      ]
    },
    {
      "cell_type": "code",
      "metadata": {
        "id": "zrMylFGrU6pq"
      },
      "source": [
        "#Concise Summary\n",
        "# print(df.info())"
      ],
      "execution_count": 18,
      "outputs": []
    },
    {
      "cell_type": "code",
      "metadata": {
        "id": "oe9sFnJKVfUG"
      },
      "source": [
        "#Data Types \n",
        "# print(df.dtypes)"
      ],
      "execution_count": 19,
      "outputs": []
    },
    {
      "cell_type": "markdown",
      "metadata": {
        "id": "wuvJ_PUDWDHh"
      },
      "source": [
        "###_**SHAPE** OF DATASET_"
      ]
    },
    {
      "cell_type": "code",
      "metadata": {
        "id": "cnLpmkA0Vih7"
      },
      "source": [
        "df.groupby('target').size()"
      ],
      "execution_count": 20,
      "outputs": []
    },
    {
      "cell_type": "markdown",
      "metadata": {
        "id": "x6u3apLyWOAg"
      },
      "source": [
        "###_FINDING **NULL VALUES**_"
      ]
    },
    {
      "cell_type": "code",
      "metadata": {
        "id": "a0vwQnFwWJ9l"
      },
      "source": [
        "#Null Values\n",
        "df.isna().sum()"
      ],
      "execution_count": 21,
      "outputs": []
    },
    {
      "cell_type": "markdown",
      "metadata": {
        "id": "7D1qy7U_WsE1"
      },
      "source": [
        "###_VISUALIZING THE **DISTRIBUTION OF TARGET VARIABLE**_"
      ]
    },
    {
      "cell_type": "code",
      "metadata": {
        "id": "LVz39oq3WSMv"
      },
      "source": [
        "#Countplot\n",
        "sns.set_theme(style=\"darkgrid\")\n",
        "sns.countplot(x=\"target\", data=df)"
      ],
      "execution_count": 22,
      "outputs": []
    },
    {
      "cell_type": "markdown",
      "metadata": {
        "id": "yAu8LSiJXEVU"
      },
      "source": [
        "###_SEPERATING **TARGET** AND **FEATURE** VARIABLES AND SPLITTING THEM FOR **TRAINING** and **TESTING**_"
      ]
    },
    {
      "cell_type": "code",
      "metadata": {
        "id": "fLq0ncLRWajK"
      },
      "source": [
        "#Target and Feature Variables\n",
        "y = df.iloc[:,0].values\n",
        "x = df.drop(['target'],axis=1).to_numpy()"
      ],
      "execution_count": 23,
      "outputs": []
    },
    {
      "cell_type": "code",
      "metadata": {
        "id": "nlk-XrQBXM3t"
      },
      "source": [
        "#Target and Feature Variables\n",
        "t = df.iloc[:,0]\n",
        "f = df.drop(['target'],axis=1)"
      ],
      "execution_count": 24,
      "outputs": []
    },
    {
      "cell_type": "code",
      "metadata": {
        "id": "BM_K-ed4XrwP",
        "colab": {
          "base_uri": "https://localhost:8080/",
          "height": 422
        },
        "outputId": "ad905c27-6013-49e1-f439-7bee0c409357"
      },
      "source": [
        "f\n"
      ],
      "execution_count": 25,
      "outputs": [
        {
          "output_type": "execute_result",
          "data": {
            "text/html": [
              "<div>\n",
              "<style scoped>\n",
              "    .dataframe tbody tr th:only-of-type {\n",
              "        vertical-align: middle;\n",
              "    }\n",
              "\n",
              "    .dataframe tbody tr th {\n",
              "        vertical-align: top;\n",
              "    }\n",
              "\n",
              "    .dataframe thead th {\n",
              "        text-align: right;\n",
              "    }\n",
              "</style>\n",
              "<table border=\"1\" class=\"dataframe\">\n",
              "  <thead>\n",
              "    <tr style=\"text-align: right;\">\n",
              "      <th></th>\n",
              "      <th>0</th>\n",
              "      <th>1</th>\n",
              "      <th>2</th>\n",
              "      <th>3</th>\n",
              "      <th>4</th>\n",
              "      <th>5</th>\n",
              "      <th>6</th>\n",
              "      <th>7</th>\n",
              "      <th>8</th>\n",
              "      <th>9</th>\n",
              "      <th>10</th>\n",
              "      <th>11</th>\n",
              "      <th>12</th>\n",
              "      <th>13</th>\n",
              "      <th>14</th>\n",
              "      <th>15</th>\n",
              "      <th>16</th>\n",
              "      <th>17</th>\n",
              "      <th>18</th>\n",
              "      <th>19</th>\n",
              "      <th>20</th>\n",
              "      <th>21</th>\n",
              "      <th>22</th>\n",
              "      <th>23</th>\n",
              "      <th>24</th>\n",
              "      <th>25</th>\n",
              "      <th>26</th>\n",
              "      <th>27</th>\n",
              "      <th>28</th>\n",
              "      <th>29</th>\n",
              "      <th>30</th>\n",
              "      <th>31</th>\n",
              "      <th>32</th>\n",
              "      <th>33</th>\n",
              "      <th>34</th>\n",
              "      <th>35</th>\n",
              "      <th>36</th>\n",
              "      <th>37</th>\n",
              "      <th>38</th>\n",
              "      <th>39</th>\n",
              "      <th>...</th>\n",
              "      <th>49112</th>\n",
              "      <th>49113</th>\n",
              "      <th>49114</th>\n",
              "      <th>49115</th>\n",
              "      <th>49116</th>\n",
              "      <th>49117</th>\n",
              "      <th>49118</th>\n",
              "      <th>49119</th>\n",
              "      <th>49120</th>\n",
              "      <th>49121</th>\n",
              "      <th>49122</th>\n",
              "      <th>49123</th>\n",
              "      <th>49124</th>\n",
              "      <th>49125</th>\n",
              "      <th>49126</th>\n",
              "      <th>49127</th>\n",
              "      <th>49128</th>\n",
              "      <th>49129</th>\n",
              "      <th>49130</th>\n",
              "      <th>49131</th>\n",
              "      <th>49132</th>\n",
              "      <th>49133</th>\n",
              "      <th>49134</th>\n",
              "      <th>49135</th>\n",
              "      <th>49136</th>\n",
              "      <th>49137</th>\n",
              "      <th>49138</th>\n",
              "      <th>49139</th>\n",
              "      <th>49140</th>\n",
              "      <th>49141</th>\n",
              "      <th>49142</th>\n",
              "      <th>49143</th>\n",
              "      <th>49144</th>\n",
              "      <th>49145</th>\n",
              "      <th>49146</th>\n",
              "      <th>49147</th>\n",
              "      <th>49148</th>\n",
              "      <th>49149</th>\n",
              "      <th>49150</th>\n",
              "      <th>49151</th>\n",
              "    </tr>\n",
              "  </thead>\n",
              "  <tbody>\n",
              "    <tr>\n",
              "      <th>0</th>\n",
              "      <td>96</td>\n",
              "      <td>80</td>\n",
              "      <td>68</td>\n",
              "      <td>96</td>\n",
              "      <td>80</td>\n",
              "      <td>68</td>\n",
              "      <td>97</td>\n",
              "      <td>81</td>\n",
              "      <td>69</td>\n",
              "      <td>96</td>\n",
              "      <td>80</td>\n",
              "      <td>69</td>\n",
              "      <td>95</td>\n",
              "      <td>78</td>\n",
              "      <td>69</td>\n",
              "      <td>94</td>\n",
              "      <td>78</td>\n",
              "      <td>69</td>\n",
              "      <td>94</td>\n",
              "      <td>77</td>\n",
              "      <td>68</td>\n",
              "      <td>94</td>\n",
              "      <td>76</td>\n",
              "      <td>68</td>\n",
              "      <td>94</td>\n",
              "      <td>76</td>\n",
              "      <td>69</td>\n",
              "      <td>96</td>\n",
              "      <td>78</td>\n",
              "      <td>71</td>\n",
              "      <td>96</td>\n",
              "      <td>78</td>\n",
              "      <td>72</td>\n",
              "      <td>93</td>\n",
              "      <td>75</td>\n",
              "      <td>69</td>\n",
              "      <td>91</td>\n",
              "      <td>72</td>\n",
              "      <td>67</td>\n",
              "      <td>93</td>\n",
              "      <td>...</td>\n",
              "      <td>89</td>\n",
              "      <td>104</td>\n",
              "      <td>96</td>\n",
              "      <td>89</td>\n",
              "      <td>104</td>\n",
              "      <td>96</td>\n",
              "      <td>89</td>\n",
              "      <td>105</td>\n",
              "      <td>97</td>\n",
              "      <td>90</td>\n",
              "      <td>105</td>\n",
              "      <td>97</td>\n",
              "      <td>90</td>\n",
              "      <td>105</td>\n",
              "      <td>97</td>\n",
              "      <td>90</td>\n",
              "      <td>105</td>\n",
              "      <td>97</td>\n",
              "      <td>90</td>\n",
              "      <td>106</td>\n",
              "      <td>98</td>\n",
              "      <td>91</td>\n",
              "      <td>106</td>\n",
              "      <td>98</td>\n",
              "      <td>91</td>\n",
              "      <td>106</td>\n",
              "      <td>98</td>\n",
              "      <td>91</td>\n",
              "      <td>106</td>\n",
              "      <td>98</td>\n",
              "      <td>91</td>\n",
              "      <td>106</td>\n",
              "      <td>98</td>\n",
              "      <td>91</td>\n",
              "      <td>107</td>\n",
              "      <td>99</td>\n",
              "      <td>92</td>\n",
              "      <td>107</td>\n",
              "      <td>99</td>\n",
              "      <td>92</td>\n",
              "    </tr>\n",
              "    <tr>\n",
              "      <th>1</th>\n",
              "      <td>12</td>\n",
              "      <td>8</td>\n",
              "      <td>74</td>\n",
              "      <td>11</td>\n",
              "      <td>8</td>\n",
              "      <td>75</td>\n",
              "      <td>11</td>\n",
              "      <td>10</td>\n",
              "      <td>74</td>\n",
              "      <td>12</td>\n",
              "      <td>11</td>\n",
              "      <td>73</td>\n",
              "      <td>12</td>\n",
              "      <td>12</td>\n",
              "      <td>72</td>\n",
              "      <td>14</td>\n",
              "      <td>11</td>\n",
              "      <td>72</td>\n",
              "      <td>16</td>\n",
              "      <td>13</td>\n",
              "      <td>80</td>\n",
              "      <td>34</td>\n",
              "      <td>30</td>\n",
              "      <td>105</td>\n",
              "      <td>44</td>\n",
              "      <td>43</td>\n",
              "      <td>124</td>\n",
              "      <td>46</td>\n",
              "      <td>46</td>\n",
              "      <td>130</td>\n",
              "      <td>45</td>\n",
              "      <td>46</td>\n",
              "      <td>132</td>\n",
              "      <td>37</td>\n",
              "      <td>38</td>\n",
              "      <td>125</td>\n",
              "      <td>35</td>\n",
              "      <td>36</td>\n",
              "      <td>126</td>\n",
              "      <td>32</td>\n",
              "      <td>...</td>\n",
              "      <td>252</td>\n",
              "      <td>229</td>\n",
              "      <td>238</td>\n",
              "      <td>252</td>\n",
              "      <td>232</td>\n",
              "      <td>241</td>\n",
              "      <td>253</td>\n",
              "      <td>235</td>\n",
              "      <td>244</td>\n",
              "      <td>254</td>\n",
              "      <td>235</td>\n",
              "      <td>245</td>\n",
              "      <td>252</td>\n",
              "      <td>236</td>\n",
              "      <td>246</td>\n",
              "      <td>253</td>\n",
              "      <td>237</td>\n",
              "      <td>247</td>\n",
              "      <td>254</td>\n",
              "      <td>236</td>\n",
              "      <td>247</td>\n",
              "      <td>251</td>\n",
              "      <td>233</td>\n",
              "      <td>246</td>\n",
              "      <td>254</td>\n",
              "      <td>232</td>\n",
              "      <td>244</td>\n",
              "      <td>254</td>\n",
              "      <td>233</td>\n",
              "      <td>245</td>\n",
              "      <td>255</td>\n",
              "      <td>233</td>\n",
              "      <td>246</td>\n",
              "      <td>254</td>\n",
              "      <td>231</td>\n",
              "      <td>243</td>\n",
              "      <td>252</td>\n",
              "      <td>229</td>\n",
              "      <td>240</td>\n",
              "      <td>254</td>\n",
              "    </tr>\n",
              "    <tr>\n",
              "      <th>2</th>\n",
              "      <td>134</td>\n",
              "      <td>160</td>\n",
              "      <td>224</td>\n",
              "      <td>134</td>\n",
              "      <td>159</td>\n",
              "      <td>223</td>\n",
              "      <td>133</td>\n",
              "      <td>159</td>\n",
              "      <td>225</td>\n",
              "      <td>126</td>\n",
              "      <td>152</td>\n",
              "      <td>222</td>\n",
              "      <td>119</td>\n",
              "      <td>145</td>\n",
              "      <td>219</td>\n",
              "      <td>104</td>\n",
              "      <td>131</td>\n",
              "      <td>210</td>\n",
              "      <td>85</td>\n",
              "      <td>114</td>\n",
              "      <td>196</td>\n",
              "      <td>62</td>\n",
              "      <td>93</td>\n",
              "      <td>177</td>\n",
              "      <td>48</td>\n",
              "      <td>80</td>\n",
              "      <td>170</td>\n",
              "      <td>41</td>\n",
              "      <td>71</td>\n",
              "      <td>166</td>\n",
              "      <td>38</td>\n",
              "      <td>67</td>\n",
              "      <td>165</td>\n",
              "      <td>32</td>\n",
              "      <td>59</td>\n",
              "      <td>157</td>\n",
              "      <td>28</td>\n",
              "      <td>53</td>\n",
              "      <td>152</td>\n",
              "      <td>24</td>\n",
              "      <td>...</td>\n",
              "      <td>252</td>\n",
              "      <td>169</td>\n",
              "      <td>190</td>\n",
              "      <td>254</td>\n",
              "      <td>188</td>\n",
              "      <td>205</td>\n",
              "      <td>255</td>\n",
              "      <td>193</td>\n",
              "      <td>206</td>\n",
              "      <td>254</td>\n",
              "      <td>198</td>\n",
              "      <td>210</td>\n",
              "      <td>253</td>\n",
              "      <td>203</td>\n",
              "      <td>213</td>\n",
              "      <td>253</td>\n",
              "      <td>208</td>\n",
              "      <td>215</td>\n",
              "      <td>255</td>\n",
              "      <td>210</td>\n",
              "      <td>217</td>\n",
              "      <td>255</td>\n",
              "      <td>210</td>\n",
              "      <td>218</td>\n",
              "      <td>255</td>\n",
              "      <td>212</td>\n",
              "      <td>219</td>\n",
              "      <td>254</td>\n",
              "      <td>214</td>\n",
              "      <td>220</td>\n",
              "      <td>255</td>\n",
              "      <td>214</td>\n",
              "      <td>220</td>\n",
              "      <td>255</td>\n",
              "      <td>215</td>\n",
              "      <td>222</td>\n",
              "      <td>255</td>\n",
              "      <td>216</td>\n",
              "      <td>224</td>\n",
              "      <td>254</td>\n",
              "    </tr>\n",
              "    <tr>\n",
              "      <th>3</th>\n",
              "      <td>27</td>\n",
              "      <td>56</td>\n",
              "      <td>76</td>\n",
              "      <td>31</td>\n",
              "      <td>58</td>\n",
              "      <td>80</td>\n",
              "      <td>30</td>\n",
              "      <td>57</td>\n",
              "      <td>78</td>\n",
              "      <td>25</td>\n",
              "      <td>51</td>\n",
              "      <td>72</td>\n",
              "      <td>19</td>\n",
              "      <td>43</td>\n",
              "      <td>65</td>\n",
              "      <td>16</td>\n",
              "      <td>40</td>\n",
              "      <td>62</td>\n",
              "      <td>20</td>\n",
              "      <td>47</td>\n",
              "      <td>68</td>\n",
              "      <td>25</td>\n",
              "      <td>53</td>\n",
              "      <td>74</td>\n",
              "      <td>29</td>\n",
              "      <td>58</td>\n",
              "      <td>79</td>\n",
              "      <td>34</td>\n",
              "      <td>63</td>\n",
              "      <td>84</td>\n",
              "      <td>37</td>\n",
              "      <td>63</td>\n",
              "      <td>86</td>\n",
              "      <td>38</td>\n",
              "      <td>62</td>\n",
              "      <td>86</td>\n",
              "      <td>37</td>\n",
              "      <td>58</td>\n",
              "      <td>85</td>\n",
              "      <td>35</td>\n",
              "      <td>...</td>\n",
              "      <td>44</td>\n",
              "      <td>37</td>\n",
              "      <td>42</td>\n",
              "      <td>42</td>\n",
              "      <td>36</td>\n",
              "      <td>41</td>\n",
              "      <td>42</td>\n",
              "      <td>33</td>\n",
              "      <td>38</td>\n",
              "      <td>39</td>\n",
              "      <td>33</td>\n",
              "      <td>39</td>\n",
              "      <td>40</td>\n",
              "      <td>30</td>\n",
              "      <td>38</td>\n",
              "      <td>38</td>\n",
              "      <td>30</td>\n",
              "      <td>39</td>\n",
              "      <td>39</td>\n",
              "      <td>32</td>\n",
              "      <td>40</td>\n",
              "      <td>40</td>\n",
              "      <td>25</td>\n",
              "      <td>32</td>\n",
              "      <td>32</td>\n",
              "      <td>26</td>\n",
              "      <td>31</td>\n",
              "      <td>31</td>\n",
              "      <td>24</td>\n",
              "      <td>27</td>\n",
              "      <td>28</td>\n",
              "      <td>25</td>\n",
              "      <td>27</td>\n",
              "      <td>27</td>\n",
              "      <td>26</td>\n",
              "      <td>26</td>\n",
              "      <td>26</td>\n",
              "      <td>27</td>\n",
              "      <td>27</td>\n",
              "      <td>27</td>\n",
              "    </tr>\n",
              "    <tr>\n",
              "      <th>4</th>\n",
              "      <td>62</td>\n",
              "      <td>77</td>\n",
              "      <td>96</td>\n",
              "      <td>67</td>\n",
              "      <td>83</td>\n",
              "      <td>102</td>\n",
              "      <td>72</td>\n",
              "      <td>88</td>\n",
              "      <td>107</td>\n",
              "      <td>73</td>\n",
              "      <td>90</td>\n",
              "      <td>109</td>\n",
              "      <td>71</td>\n",
              "      <td>88</td>\n",
              "      <td>107</td>\n",
              "      <td>67</td>\n",
              "      <td>85</td>\n",
              "      <td>104</td>\n",
              "      <td>67</td>\n",
              "      <td>85</td>\n",
              "      <td>104</td>\n",
              "      <td>69</td>\n",
              "      <td>87</td>\n",
              "      <td>105</td>\n",
              "      <td>70</td>\n",
              "      <td>91</td>\n",
              "      <td>108</td>\n",
              "      <td>73</td>\n",
              "      <td>93</td>\n",
              "      <td>111</td>\n",
              "      <td>71</td>\n",
              "      <td>91</td>\n",
              "      <td>112</td>\n",
              "      <td>70</td>\n",
              "      <td>91</td>\n",
              "      <td>113</td>\n",
              "      <td>70</td>\n",
              "      <td>91</td>\n",
              "      <td>113</td>\n",
              "      <td>68</td>\n",
              "      <td>...</td>\n",
              "      <td>196</td>\n",
              "      <td>220</td>\n",
              "      <td>214</td>\n",
              "      <td>200</td>\n",
              "      <td>222</td>\n",
              "      <td>218</td>\n",
              "      <td>203</td>\n",
              "      <td>225</td>\n",
              "      <td>222</td>\n",
              "      <td>207</td>\n",
              "      <td>227</td>\n",
              "      <td>225</td>\n",
              "      <td>211</td>\n",
              "      <td>227</td>\n",
              "      <td>226</td>\n",
              "      <td>212</td>\n",
              "      <td>227</td>\n",
              "      <td>226</td>\n",
              "      <td>212</td>\n",
              "      <td>227</td>\n",
              "      <td>225</td>\n",
              "      <td>211</td>\n",
              "      <td>227</td>\n",
              "      <td>224</td>\n",
              "      <td>209</td>\n",
              "      <td>225</td>\n",
              "      <td>222</td>\n",
              "      <td>207</td>\n",
              "      <td>224</td>\n",
              "      <td>221</td>\n",
              "      <td>207</td>\n",
              "      <td>224</td>\n",
              "      <td>221</td>\n",
              "      <td>208</td>\n",
              "      <td>225</td>\n",
              "      <td>222</td>\n",
              "      <td>208</td>\n",
              "      <td>225</td>\n",
              "      <td>222</td>\n",
              "      <td>208</td>\n",
              "    </tr>\n",
              "    <tr>\n",
              "      <th>...</th>\n",
              "      <td>...</td>\n",
              "      <td>...</td>\n",
              "      <td>...</td>\n",
              "      <td>...</td>\n",
              "      <td>...</td>\n",
              "      <td>...</td>\n",
              "      <td>...</td>\n",
              "      <td>...</td>\n",
              "      <td>...</td>\n",
              "      <td>...</td>\n",
              "      <td>...</td>\n",
              "      <td>...</td>\n",
              "      <td>...</td>\n",
              "      <td>...</td>\n",
              "      <td>...</td>\n",
              "      <td>...</td>\n",
              "      <td>...</td>\n",
              "      <td>...</td>\n",
              "      <td>...</td>\n",
              "      <td>...</td>\n",
              "      <td>...</td>\n",
              "      <td>...</td>\n",
              "      <td>...</td>\n",
              "      <td>...</td>\n",
              "      <td>...</td>\n",
              "      <td>...</td>\n",
              "      <td>...</td>\n",
              "      <td>...</td>\n",
              "      <td>...</td>\n",
              "      <td>...</td>\n",
              "      <td>...</td>\n",
              "      <td>...</td>\n",
              "      <td>...</td>\n",
              "      <td>...</td>\n",
              "      <td>...</td>\n",
              "      <td>...</td>\n",
              "      <td>...</td>\n",
              "      <td>...</td>\n",
              "      <td>...</td>\n",
              "      <td>...</td>\n",
              "      <td>...</td>\n",
              "      <td>...</td>\n",
              "      <td>...</td>\n",
              "      <td>...</td>\n",
              "      <td>...</td>\n",
              "      <td>...</td>\n",
              "      <td>...</td>\n",
              "      <td>...</td>\n",
              "      <td>...</td>\n",
              "      <td>...</td>\n",
              "      <td>...</td>\n",
              "      <td>...</td>\n",
              "      <td>...</td>\n",
              "      <td>...</td>\n",
              "      <td>...</td>\n",
              "      <td>...</td>\n",
              "      <td>...</td>\n",
              "      <td>...</td>\n",
              "      <td>...</td>\n",
              "      <td>...</td>\n",
              "      <td>...</td>\n",
              "      <td>...</td>\n",
              "      <td>...</td>\n",
              "      <td>...</td>\n",
              "      <td>...</td>\n",
              "      <td>...</td>\n",
              "      <td>...</td>\n",
              "      <td>...</td>\n",
              "      <td>...</td>\n",
              "      <td>...</td>\n",
              "      <td>...</td>\n",
              "      <td>...</td>\n",
              "      <td>...</td>\n",
              "      <td>...</td>\n",
              "      <td>...</td>\n",
              "      <td>...</td>\n",
              "      <td>...</td>\n",
              "      <td>...</td>\n",
              "      <td>...</td>\n",
              "      <td>...</td>\n",
              "      <td>...</td>\n",
              "    </tr>\n",
              "    <tr>\n",
              "      <th>1995</th>\n",
              "      <td>113</td>\n",
              "      <td>120</td>\n",
              "      <td>135</td>\n",
              "      <td>108</td>\n",
              "      <td>115</td>\n",
              "      <td>130</td>\n",
              "      <td>100</td>\n",
              "      <td>107</td>\n",
              "      <td>122</td>\n",
              "      <td>93</td>\n",
              "      <td>100</td>\n",
              "      <td>115</td>\n",
              "      <td>87</td>\n",
              "      <td>94</td>\n",
              "      <td>109</td>\n",
              "      <td>85</td>\n",
              "      <td>92</td>\n",
              "      <td>107</td>\n",
              "      <td>85</td>\n",
              "      <td>92</td>\n",
              "      <td>107</td>\n",
              "      <td>86</td>\n",
              "      <td>92</td>\n",
              "      <td>108</td>\n",
              "      <td>86</td>\n",
              "      <td>94</td>\n",
              "      <td>109</td>\n",
              "      <td>89</td>\n",
              "      <td>96</td>\n",
              "      <td>111</td>\n",
              "      <td>93</td>\n",
              "      <td>100</td>\n",
              "      <td>115</td>\n",
              "      <td>104</td>\n",
              "      <td>111</td>\n",
              "      <td>126</td>\n",
              "      <td>119</td>\n",
              "      <td>127</td>\n",
              "      <td>140</td>\n",
              "      <td>139</td>\n",
              "      <td>...</td>\n",
              "      <td>192</td>\n",
              "      <td>118</td>\n",
              "      <td>126</td>\n",
              "      <td>196</td>\n",
              "      <td>122</td>\n",
              "      <td>130</td>\n",
              "      <td>200</td>\n",
              "      <td>126</td>\n",
              "      <td>134</td>\n",
              "      <td>204</td>\n",
              "      <td>126</td>\n",
              "      <td>135</td>\n",
              "      <td>203</td>\n",
              "      <td>126</td>\n",
              "      <td>135</td>\n",
              "      <td>203</td>\n",
              "      <td>129</td>\n",
              "      <td>136</td>\n",
              "      <td>205</td>\n",
              "      <td>131</td>\n",
              "      <td>138</td>\n",
              "      <td>206</td>\n",
              "      <td>128</td>\n",
              "      <td>134</td>\n",
              "      <td>201</td>\n",
              "      <td>120</td>\n",
              "      <td>126</td>\n",
              "      <td>193</td>\n",
              "      <td>109</td>\n",
              "      <td>115</td>\n",
              "      <td>182</td>\n",
              "      <td>99</td>\n",
              "      <td>102</td>\n",
              "      <td>170</td>\n",
              "      <td>90</td>\n",
              "      <td>94</td>\n",
              "      <td>160</td>\n",
              "      <td>84</td>\n",
              "      <td>88</td>\n",
              "      <td>153</td>\n",
              "    </tr>\n",
              "    <tr>\n",
              "      <th>1996</th>\n",
              "      <td>52</td>\n",
              "      <td>11</td>\n",
              "      <td>16</td>\n",
              "      <td>51</td>\n",
              "      <td>10</td>\n",
              "      <td>15</td>\n",
              "      <td>51</td>\n",
              "      <td>10</td>\n",
              "      <td>15</td>\n",
              "      <td>50</td>\n",
              "      <td>10</td>\n",
              "      <td>15</td>\n",
              "      <td>50</td>\n",
              "      <td>10</td>\n",
              "      <td>15</td>\n",
              "      <td>50</td>\n",
              "      <td>11</td>\n",
              "      <td>13</td>\n",
              "      <td>49</td>\n",
              "      <td>11</td>\n",
              "      <td>13</td>\n",
              "      <td>49</td>\n",
              "      <td>12</td>\n",
              "      <td>14</td>\n",
              "      <td>48</td>\n",
              "      <td>14</td>\n",
              "      <td>15</td>\n",
              "      <td>48</td>\n",
              "      <td>14</td>\n",
              "      <td>15</td>\n",
              "      <td>49</td>\n",
              "      <td>15</td>\n",
              "      <td>15</td>\n",
              "      <td>50</td>\n",
              "      <td>16</td>\n",
              "      <td>16</td>\n",
              "      <td>50</td>\n",
              "      <td>16</td>\n",
              "      <td>17</td>\n",
              "      <td>47</td>\n",
              "      <td>...</td>\n",
              "      <td>219</td>\n",
              "      <td>136</td>\n",
              "      <td>191</td>\n",
              "      <td>216</td>\n",
              "      <td>137</td>\n",
              "      <td>191</td>\n",
              "      <td>214</td>\n",
              "      <td>137</td>\n",
              "      <td>191</td>\n",
              "      <td>214</td>\n",
              "      <td>137</td>\n",
              "      <td>191</td>\n",
              "      <td>214</td>\n",
              "      <td>137</td>\n",
              "      <td>191</td>\n",
              "      <td>214</td>\n",
              "      <td>137</td>\n",
              "      <td>191</td>\n",
              "      <td>214</td>\n",
              "      <td>137</td>\n",
              "      <td>191</td>\n",
              "      <td>214</td>\n",
              "      <td>137</td>\n",
              "      <td>191</td>\n",
              "      <td>214</td>\n",
              "      <td>138</td>\n",
              "      <td>192</td>\n",
              "      <td>215</td>\n",
              "      <td>138</td>\n",
              "      <td>192</td>\n",
              "      <td>215</td>\n",
              "      <td>138</td>\n",
              "      <td>192</td>\n",
              "      <td>215</td>\n",
              "      <td>137</td>\n",
              "      <td>191</td>\n",
              "      <td>214</td>\n",
              "      <td>137</td>\n",
              "      <td>191</td>\n",
              "      <td>214</td>\n",
              "    </tr>\n",
              "    <tr>\n",
              "      <th>1997</th>\n",
              "      <td>138</td>\n",
              "      <td>150</td>\n",
              "      <td>160</td>\n",
              "      <td>137</td>\n",
              "      <td>149</td>\n",
              "      <td>159</td>\n",
              "      <td>136</td>\n",
              "      <td>148</td>\n",
              "      <td>158</td>\n",
              "      <td>135</td>\n",
              "      <td>147</td>\n",
              "      <td>157</td>\n",
              "      <td>135</td>\n",
              "      <td>146</td>\n",
              "      <td>157</td>\n",
              "      <td>136</td>\n",
              "      <td>145</td>\n",
              "      <td>158</td>\n",
              "      <td>137</td>\n",
              "      <td>146</td>\n",
              "      <td>159</td>\n",
              "      <td>132</td>\n",
              "      <td>141</td>\n",
              "      <td>154</td>\n",
              "      <td>120</td>\n",
              "      <td>129</td>\n",
              "      <td>142</td>\n",
              "      <td>105</td>\n",
              "      <td>113</td>\n",
              "      <td>126</td>\n",
              "      <td>88</td>\n",
              "      <td>96</td>\n",
              "      <td>109</td>\n",
              "      <td>71</td>\n",
              "      <td>79</td>\n",
              "      <td>92</td>\n",
              "      <td>59</td>\n",
              "      <td>68</td>\n",
              "      <td>80</td>\n",
              "      <td>50</td>\n",
              "      <td>...</td>\n",
              "      <td>197</td>\n",
              "      <td>114</td>\n",
              "      <td>127</td>\n",
              "      <td>212</td>\n",
              "      <td>125</td>\n",
              "      <td>140</td>\n",
              "      <td>226</td>\n",
              "      <td>133</td>\n",
              "      <td>147</td>\n",
              "      <td>235</td>\n",
              "      <td>131</td>\n",
              "      <td>146</td>\n",
              "      <td>234</td>\n",
              "      <td>127</td>\n",
              "      <td>144</td>\n",
              "      <td>231</td>\n",
              "      <td>121</td>\n",
              "      <td>137</td>\n",
              "      <td>226</td>\n",
              "      <td>114</td>\n",
              "      <td>131</td>\n",
              "      <td>220</td>\n",
              "      <td>107</td>\n",
              "      <td>125</td>\n",
              "      <td>214</td>\n",
              "      <td>105</td>\n",
              "      <td>123</td>\n",
              "      <td>214</td>\n",
              "      <td>104</td>\n",
              "      <td>122</td>\n",
              "      <td>213</td>\n",
              "      <td>104</td>\n",
              "      <td>123</td>\n",
              "      <td>214</td>\n",
              "      <td>103</td>\n",
              "      <td>121</td>\n",
              "      <td>213</td>\n",
              "      <td>100</td>\n",
              "      <td>118</td>\n",
              "      <td>211</td>\n",
              "    </tr>\n",
              "    <tr>\n",
              "      <th>1998</th>\n",
              "      <td>39</td>\n",
              "      <td>6</td>\n",
              "      <td>13</td>\n",
              "      <td>39</td>\n",
              "      <td>6</td>\n",
              "      <td>13</td>\n",
              "      <td>39</td>\n",
              "      <td>6</td>\n",
              "      <td>13</td>\n",
              "      <td>39</td>\n",
              "      <td>6</td>\n",
              "      <td>13</td>\n",
              "      <td>39</td>\n",
              "      <td>6</td>\n",
              "      <td>13</td>\n",
              "      <td>39</td>\n",
              "      <td>5</td>\n",
              "      <td>15</td>\n",
              "      <td>39</td>\n",
              "      <td>6</td>\n",
              "      <td>15</td>\n",
              "      <td>40</td>\n",
              "      <td>6</td>\n",
              "      <td>16</td>\n",
              "      <td>41</td>\n",
              "      <td>7</td>\n",
              "      <td>17</td>\n",
              "      <td>43</td>\n",
              "      <td>9</td>\n",
              "      <td>19</td>\n",
              "      <td>45</td>\n",
              "      <td>11</td>\n",
              "      <td>20</td>\n",
              "      <td>46</td>\n",
              "      <td>12</td>\n",
              "      <td>22</td>\n",
              "      <td>44</td>\n",
              "      <td>14</td>\n",
              "      <td>21</td>\n",
              "      <td>40</td>\n",
              "      <td>...</td>\n",
              "      <td>40</td>\n",
              "      <td>39</td>\n",
              "      <td>25</td>\n",
              "      <td>37</td>\n",
              "      <td>43</td>\n",
              "      <td>26</td>\n",
              "      <td>39</td>\n",
              "      <td>43</td>\n",
              "      <td>28</td>\n",
              "      <td>42</td>\n",
              "      <td>43</td>\n",
              "      <td>30</td>\n",
              "      <td>45</td>\n",
              "      <td>44</td>\n",
              "      <td>31</td>\n",
              "      <td>47</td>\n",
              "      <td>46</td>\n",
              "      <td>32</td>\n",
              "      <td>50</td>\n",
              "      <td>47</td>\n",
              "      <td>35</td>\n",
              "      <td>54</td>\n",
              "      <td>53</td>\n",
              "      <td>41</td>\n",
              "      <td>61</td>\n",
              "      <td>63</td>\n",
              "      <td>51</td>\n",
              "      <td>73</td>\n",
              "      <td>72</td>\n",
              "      <td>63</td>\n",
              "      <td>84</td>\n",
              "      <td>83</td>\n",
              "      <td>74</td>\n",
              "      <td>97</td>\n",
              "      <td>95</td>\n",
              "      <td>87</td>\n",
              "      <td>112</td>\n",
              "      <td>107</td>\n",
              "      <td>98</td>\n",
              "      <td>124</td>\n",
              "    </tr>\n",
              "    <tr>\n",
              "      <th>1999</th>\n",
              "      <td>141</td>\n",
              "      <td>151</td>\n",
              "      <td>161</td>\n",
              "      <td>134</td>\n",
              "      <td>144</td>\n",
              "      <td>154</td>\n",
              "      <td>126</td>\n",
              "      <td>136</td>\n",
              "      <td>146</td>\n",
              "      <td>120</td>\n",
              "      <td>131</td>\n",
              "      <td>139</td>\n",
              "      <td>116</td>\n",
              "      <td>127</td>\n",
              "      <td>135</td>\n",
              "      <td>113</td>\n",
              "      <td>124</td>\n",
              "      <td>132</td>\n",
              "      <td>109</td>\n",
              "      <td>120</td>\n",
              "      <td>128</td>\n",
              "      <td>100</td>\n",
              "      <td>111</td>\n",
              "      <td>119</td>\n",
              "      <td>99</td>\n",
              "      <td>110</td>\n",
              "      <td>118</td>\n",
              "      <td>97</td>\n",
              "      <td>109</td>\n",
              "      <td>116</td>\n",
              "      <td>93</td>\n",
              "      <td>103</td>\n",
              "      <td>112</td>\n",
              "      <td>87</td>\n",
              "      <td>98</td>\n",
              "      <td>106</td>\n",
              "      <td>81</td>\n",
              "      <td>93</td>\n",
              "      <td>100</td>\n",
              "      <td>80</td>\n",
              "      <td>...</td>\n",
              "      <td>4</td>\n",
              "      <td>49</td>\n",
              "      <td>31</td>\n",
              "      <td>3</td>\n",
              "      <td>48</td>\n",
              "      <td>29</td>\n",
              "      <td>2</td>\n",
              "      <td>47</td>\n",
              "      <td>27</td>\n",
              "      <td>2</td>\n",
              "      <td>47</td>\n",
              "      <td>27</td>\n",
              "      <td>2</td>\n",
              "      <td>46</td>\n",
              "      <td>26</td>\n",
              "      <td>1</td>\n",
              "      <td>45</td>\n",
              "      <td>26</td>\n",
              "      <td>0</td>\n",
              "      <td>44</td>\n",
              "      <td>25</td>\n",
              "      <td>0</td>\n",
              "      <td>41</td>\n",
              "      <td>24</td>\n",
              "      <td>0</td>\n",
              "      <td>41</td>\n",
              "      <td>23</td>\n",
              "      <td>0</td>\n",
              "      <td>40</td>\n",
              "      <td>22</td>\n",
              "      <td>0</td>\n",
              "      <td>43</td>\n",
              "      <td>24</td>\n",
              "      <td>2</td>\n",
              "      <td>46</td>\n",
              "      <td>26</td>\n",
              "      <td>4</td>\n",
              "      <td>50</td>\n",
              "      <td>26</td>\n",
              "      <td>8</td>\n",
              "    </tr>\n",
              "  </tbody>\n",
              "</table>\n",
              "<p>2447 rows × 49152 columns</p>\n",
              "</div>"
            ],
            "text/plain": [
              "      0      1      2      3      4      ...  49147  49148  49149  49150  49151\n",
              "0        96     80     68     96     80  ...     99     92    107     99     92\n",
              "1        12      8     74     11      8  ...    243    252    229    240    254\n",
              "2       134    160    224    134    159  ...    222    255    216    224    254\n",
              "3        27     56     76     31     58  ...     26     26     27     27     27\n",
              "4        62     77     96     67     83  ...    222    208    225    222    208\n",
              "...     ...    ...    ...    ...    ...  ...    ...    ...    ...    ...    ...\n",
              "1995    113    120    135    108    115  ...     94    160     84     88    153\n",
              "1996     52     11     16     51     10  ...    191    214    137    191    214\n",
              "1997    138    150    160    137    149  ...    121    213    100    118    211\n",
              "1998     39      6     13     39      6  ...     87    112    107     98    124\n",
              "1999    141    151    161    134    144  ...     26      4     50     26      8\n",
              "\n",
              "[2447 rows x 49152 columns]"
            ]
          },
          "metadata": {
            "tags": []
          },
          "execution_count": 25
        }
      ]
    },
    {
      "cell_type": "code",
      "metadata": {
        "id": "aob-IXnrXxHX"
      },
      "source": [
        "#Train-Test Split\n",
        "#50% training 50% testing\n",
        "from sklearn.model_selection import train_test_split\n",
        "x_train, x_test, y_train, y_test = train_test_split(x, y, test_size=0.5, random_state=42)"
      ],
      "execution_count": 26,
      "outputs": []
    },
    {
      "cell_type": "code",
      "metadata": {
        "id": "8iAApBd0YOYT",
        "colab": {
          "base_uri": "https://localhost:8080/"
        },
        "outputId": "cb2b27e3-2ce8-40e8-8a34-5b6fb4b7954a"
      },
      "source": [
        "x_train.shape\n"
      ],
      "execution_count": 27,
      "outputs": [
        {
          "output_type": "execute_result",
          "data": {
            "text/plain": [
              "(1223, 49152)"
            ]
          },
          "metadata": {
            "tags": []
          },
          "execution_count": 27
        }
      ]
    },
    {
      "cell_type": "markdown",
      "metadata": {
        "id": "M9hbJnxNYjAY"
      },
      "source": [
        "###_VISUALIZING THE **LATENT SPACE**_"
      ]
    },
    {
      "cell_type": "code",
      "metadata": {
        "id": "nT3iQpuHYj3J"
      },
      "source": [
        "# #Applying t-SNE\n",
        "# from sklearn.manifold import TSNE\n",
        "# X_embedded = TSNE(n_components=2).fit_transform(x)"
      ],
      "execution_count": 28,
      "outputs": []
    },
    {
      "cell_type": "code",
      "metadata": {
        "id": "3pIUNpd4Yn8j"
      },
      "source": [
        "# #Shape\n",
        "# X_embedded.shape"
      ],
      "execution_count": 29,
      "outputs": []
    },
    {
      "cell_type": "markdown",
      "metadata": {
        "id": "ieRac66oZIpE"
      },
      "source": [
        "###_**DIMENSIONALITY REDUCTION**_"
      ]
    },
    {
      "cell_type": "markdown",
      "metadata": {
        "id": "Ay1SszbG9rrk"
      },
      "source": [
        "**PCA**\n"
      ]
    },
    {
      "cell_type": "code",
      "metadata": {
        "id": "BJkcpPJNZJvQ"
      },
      "source": [
        "#Feature Scaling\n",
        "from sklearn.preprocessing import StandardScaler\n",
        "st = StandardScaler()\n",
        "x_pca = st.fit_transform(x)"
      ],
      "execution_count": 30,
      "outputs": []
    },
    {
      "cell_type": "code",
      "metadata": {
        "id": "781RixRjalTR",
        "colab": {
          "base_uri": "https://localhost:8080/"
        },
        "outputId": "1cee4336-f0bb-47a8-928d-0127a7574cd7"
      },
      "source": [
        "#Choosing the Minimum number of Principal Components such that 90% of the Variance is retained\n",
        "from sklearn.decomposition import PCA\n",
        "pca = PCA(.90)\n",
        "pca.fit(x_pca)"
      ],
      "execution_count": 31,
      "outputs": [
        {
          "output_type": "execute_result",
          "data": {
            "text/plain": [
              "PCA(copy=True, iterated_power='auto', n_components=0.9, random_state=None,\n",
              "    svd_solver='auto', tol=0.0, whiten=False)"
            ]
          },
          "metadata": {
            "tags": []
          },
          "execution_count": 31
        }
      ]
    },
    {
      "cell_type": "code",
      "metadata": {
        "colab": {
          "base_uri": "https://localhost:8080/"
        },
        "id": "ZR3dExuD78dF",
        "outputId": "6e790e29-63a1-47f0-c88f-fbacf0acd57c"
      },
      "source": [
        "#Number of Components\n",
        "pca.n_components_"
      ],
      "execution_count": 32,
      "outputs": [
        {
          "output_type": "execute_result",
          "data": {
            "text/plain": [
              "82"
            ]
          },
          "metadata": {
            "tags": []
          },
          "execution_count": 32
        }
      ]
    },
    {
      "cell_type": "code",
      "metadata": {
        "id": "O4vacanY78e0"
      },
      "source": [
        "#Transformation\n",
        "x_pca=pca.transform(x_pca)"
      ],
      "execution_count": 33,
      "outputs": []
    },
    {
      "cell_type": "code",
      "metadata": {
        "colab": {
          "base_uri": "https://localhost:8080/"
        },
        "id": "uiFk61edFi0r",
        "outputId": "93dfc8bd-6913-4196-83a5-de652c43650c"
      },
      "source": [
        "np.unique(x_pca)"
      ],
      "execution_count": 34,
      "outputs": [
        {
          "output_type": "execute_result",
          "data": {
            "text/plain": [
              "array([-322.38878324, -312.76624683, -303.70221189, ...,  345.38422386,\n",
              "        358.10641998,  372.07509141])"
            ]
          },
          "metadata": {
            "tags": []
          },
          "execution_count": 34
        }
      ]
    },
    {
      "cell_type": "code",
      "metadata": {
        "colab": {
          "base_uri": "https://localhost:8080/"
        },
        "id": "TKB6HWyv883s",
        "outputId": "d85f44df-2004-40c4-da29-d55afad12fb5"
      },
      "source": [
        "x_pca.shape"
      ],
      "execution_count": 35,
      "outputs": [
        {
          "output_type": "execute_result",
          "data": {
            "text/plain": [
              "(2447, 82)"
            ]
          },
          "metadata": {
            "tags": []
          },
          "execution_count": 35
        }
      ]
    },
    {
      "cell_type": "code",
      "metadata": {
        "id": "279zkQoD78g1"
      },
      "source": [
        "#Train-Test Split for PCA Tranformed Features\n",
        "x_train_pca, x_test_pca, y_train_pca, y_test_pca = train_test_split(x_pca, y, test_size=0.2, random_state=42)"
      ],
      "execution_count": 36,
      "outputs": []
    },
    {
      "cell_type": "code",
      "metadata": {
        "colab": {
          "base_uri": "https://localhost:8080/",
          "height": 422
        },
        "id": "fgDHGPtRGfHC",
        "outputId": "abafec28-9b66-4f13-fd76-1cc11b476849"
      },
      "source": [
        "df"
      ],
      "execution_count": 37,
      "outputs": [
        {
          "output_type": "execute_result",
          "data": {
            "text/html": [
              "<div>\n",
              "<style scoped>\n",
              "    .dataframe tbody tr th:only-of-type {\n",
              "        vertical-align: middle;\n",
              "    }\n",
              "\n",
              "    .dataframe tbody tr th {\n",
              "        vertical-align: top;\n",
              "    }\n",
              "\n",
              "    .dataframe thead th {\n",
              "        text-align: right;\n",
              "    }\n",
              "</style>\n",
              "<table border=\"1\" class=\"dataframe\">\n",
              "  <thead>\n",
              "    <tr style=\"text-align: right;\">\n",
              "      <th></th>\n",
              "      <th>target</th>\n",
              "      <th>0</th>\n",
              "      <th>1</th>\n",
              "      <th>2</th>\n",
              "      <th>3</th>\n",
              "      <th>4</th>\n",
              "      <th>5</th>\n",
              "      <th>6</th>\n",
              "      <th>7</th>\n",
              "      <th>8</th>\n",
              "      <th>9</th>\n",
              "      <th>10</th>\n",
              "      <th>11</th>\n",
              "      <th>12</th>\n",
              "      <th>13</th>\n",
              "      <th>14</th>\n",
              "      <th>15</th>\n",
              "      <th>16</th>\n",
              "      <th>17</th>\n",
              "      <th>18</th>\n",
              "      <th>19</th>\n",
              "      <th>20</th>\n",
              "      <th>21</th>\n",
              "      <th>22</th>\n",
              "      <th>23</th>\n",
              "      <th>24</th>\n",
              "      <th>25</th>\n",
              "      <th>26</th>\n",
              "      <th>27</th>\n",
              "      <th>28</th>\n",
              "      <th>29</th>\n",
              "      <th>30</th>\n",
              "      <th>31</th>\n",
              "      <th>32</th>\n",
              "      <th>33</th>\n",
              "      <th>34</th>\n",
              "      <th>35</th>\n",
              "      <th>36</th>\n",
              "      <th>37</th>\n",
              "      <th>38</th>\n",
              "      <th>...</th>\n",
              "      <th>49112</th>\n",
              "      <th>49113</th>\n",
              "      <th>49114</th>\n",
              "      <th>49115</th>\n",
              "      <th>49116</th>\n",
              "      <th>49117</th>\n",
              "      <th>49118</th>\n",
              "      <th>49119</th>\n",
              "      <th>49120</th>\n",
              "      <th>49121</th>\n",
              "      <th>49122</th>\n",
              "      <th>49123</th>\n",
              "      <th>49124</th>\n",
              "      <th>49125</th>\n",
              "      <th>49126</th>\n",
              "      <th>49127</th>\n",
              "      <th>49128</th>\n",
              "      <th>49129</th>\n",
              "      <th>49130</th>\n",
              "      <th>49131</th>\n",
              "      <th>49132</th>\n",
              "      <th>49133</th>\n",
              "      <th>49134</th>\n",
              "      <th>49135</th>\n",
              "      <th>49136</th>\n",
              "      <th>49137</th>\n",
              "      <th>49138</th>\n",
              "      <th>49139</th>\n",
              "      <th>49140</th>\n",
              "      <th>49141</th>\n",
              "      <th>49142</th>\n",
              "      <th>49143</th>\n",
              "      <th>49144</th>\n",
              "      <th>49145</th>\n",
              "      <th>49146</th>\n",
              "      <th>49147</th>\n",
              "      <th>49148</th>\n",
              "      <th>49149</th>\n",
              "      <th>49150</th>\n",
              "      <th>49151</th>\n",
              "    </tr>\n",
              "  </thead>\n",
              "  <tbody>\n",
              "    <tr>\n",
              "      <th>0</th>\n",
              "      <td>1.0</td>\n",
              "      <td>96</td>\n",
              "      <td>80</td>\n",
              "      <td>68</td>\n",
              "      <td>96</td>\n",
              "      <td>80</td>\n",
              "      <td>68</td>\n",
              "      <td>97</td>\n",
              "      <td>81</td>\n",
              "      <td>69</td>\n",
              "      <td>96</td>\n",
              "      <td>80</td>\n",
              "      <td>69</td>\n",
              "      <td>95</td>\n",
              "      <td>78</td>\n",
              "      <td>69</td>\n",
              "      <td>94</td>\n",
              "      <td>78</td>\n",
              "      <td>69</td>\n",
              "      <td>94</td>\n",
              "      <td>77</td>\n",
              "      <td>68</td>\n",
              "      <td>94</td>\n",
              "      <td>76</td>\n",
              "      <td>68</td>\n",
              "      <td>94</td>\n",
              "      <td>76</td>\n",
              "      <td>69</td>\n",
              "      <td>96</td>\n",
              "      <td>78</td>\n",
              "      <td>71</td>\n",
              "      <td>96</td>\n",
              "      <td>78</td>\n",
              "      <td>72</td>\n",
              "      <td>93</td>\n",
              "      <td>75</td>\n",
              "      <td>69</td>\n",
              "      <td>91</td>\n",
              "      <td>72</td>\n",
              "      <td>67</td>\n",
              "      <td>...</td>\n",
              "      <td>89</td>\n",
              "      <td>104</td>\n",
              "      <td>96</td>\n",
              "      <td>89</td>\n",
              "      <td>104</td>\n",
              "      <td>96</td>\n",
              "      <td>89</td>\n",
              "      <td>105</td>\n",
              "      <td>97</td>\n",
              "      <td>90</td>\n",
              "      <td>105</td>\n",
              "      <td>97</td>\n",
              "      <td>90</td>\n",
              "      <td>105</td>\n",
              "      <td>97</td>\n",
              "      <td>90</td>\n",
              "      <td>105</td>\n",
              "      <td>97</td>\n",
              "      <td>90</td>\n",
              "      <td>106</td>\n",
              "      <td>98</td>\n",
              "      <td>91</td>\n",
              "      <td>106</td>\n",
              "      <td>98</td>\n",
              "      <td>91</td>\n",
              "      <td>106</td>\n",
              "      <td>98</td>\n",
              "      <td>91</td>\n",
              "      <td>106</td>\n",
              "      <td>98</td>\n",
              "      <td>91</td>\n",
              "      <td>106</td>\n",
              "      <td>98</td>\n",
              "      <td>91</td>\n",
              "      <td>107</td>\n",
              "      <td>99</td>\n",
              "      <td>92</td>\n",
              "      <td>107</td>\n",
              "      <td>99</td>\n",
              "      <td>92</td>\n",
              "    </tr>\n",
              "    <tr>\n",
              "      <th>1</th>\n",
              "      <td>1.0</td>\n",
              "      <td>12</td>\n",
              "      <td>8</td>\n",
              "      <td>74</td>\n",
              "      <td>11</td>\n",
              "      <td>8</td>\n",
              "      <td>75</td>\n",
              "      <td>11</td>\n",
              "      <td>10</td>\n",
              "      <td>74</td>\n",
              "      <td>12</td>\n",
              "      <td>11</td>\n",
              "      <td>73</td>\n",
              "      <td>12</td>\n",
              "      <td>12</td>\n",
              "      <td>72</td>\n",
              "      <td>14</td>\n",
              "      <td>11</td>\n",
              "      <td>72</td>\n",
              "      <td>16</td>\n",
              "      <td>13</td>\n",
              "      <td>80</td>\n",
              "      <td>34</td>\n",
              "      <td>30</td>\n",
              "      <td>105</td>\n",
              "      <td>44</td>\n",
              "      <td>43</td>\n",
              "      <td>124</td>\n",
              "      <td>46</td>\n",
              "      <td>46</td>\n",
              "      <td>130</td>\n",
              "      <td>45</td>\n",
              "      <td>46</td>\n",
              "      <td>132</td>\n",
              "      <td>37</td>\n",
              "      <td>38</td>\n",
              "      <td>125</td>\n",
              "      <td>35</td>\n",
              "      <td>36</td>\n",
              "      <td>126</td>\n",
              "      <td>...</td>\n",
              "      <td>252</td>\n",
              "      <td>229</td>\n",
              "      <td>238</td>\n",
              "      <td>252</td>\n",
              "      <td>232</td>\n",
              "      <td>241</td>\n",
              "      <td>253</td>\n",
              "      <td>235</td>\n",
              "      <td>244</td>\n",
              "      <td>254</td>\n",
              "      <td>235</td>\n",
              "      <td>245</td>\n",
              "      <td>252</td>\n",
              "      <td>236</td>\n",
              "      <td>246</td>\n",
              "      <td>253</td>\n",
              "      <td>237</td>\n",
              "      <td>247</td>\n",
              "      <td>254</td>\n",
              "      <td>236</td>\n",
              "      <td>247</td>\n",
              "      <td>251</td>\n",
              "      <td>233</td>\n",
              "      <td>246</td>\n",
              "      <td>254</td>\n",
              "      <td>232</td>\n",
              "      <td>244</td>\n",
              "      <td>254</td>\n",
              "      <td>233</td>\n",
              "      <td>245</td>\n",
              "      <td>255</td>\n",
              "      <td>233</td>\n",
              "      <td>246</td>\n",
              "      <td>254</td>\n",
              "      <td>231</td>\n",
              "      <td>243</td>\n",
              "      <td>252</td>\n",
              "      <td>229</td>\n",
              "      <td>240</td>\n",
              "      <td>254</td>\n",
              "    </tr>\n",
              "    <tr>\n",
              "      <th>2</th>\n",
              "      <td>1.0</td>\n",
              "      <td>134</td>\n",
              "      <td>160</td>\n",
              "      <td>224</td>\n",
              "      <td>134</td>\n",
              "      <td>159</td>\n",
              "      <td>223</td>\n",
              "      <td>133</td>\n",
              "      <td>159</td>\n",
              "      <td>225</td>\n",
              "      <td>126</td>\n",
              "      <td>152</td>\n",
              "      <td>222</td>\n",
              "      <td>119</td>\n",
              "      <td>145</td>\n",
              "      <td>219</td>\n",
              "      <td>104</td>\n",
              "      <td>131</td>\n",
              "      <td>210</td>\n",
              "      <td>85</td>\n",
              "      <td>114</td>\n",
              "      <td>196</td>\n",
              "      <td>62</td>\n",
              "      <td>93</td>\n",
              "      <td>177</td>\n",
              "      <td>48</td>\n",
              "      <td>80</td>\n",
              "      <td>170</td>\n",
              "      <td>41</td>\n",
              "      <td>71</td>\n",
              "      <td>166</td>\n",
              "      <td>38</td>\n",
              "      <td>67</td>\n",
              "      <td>165</td>\n",
              "      <td>32</td>\n",
              "      <td>59</td>\n",
              "      <td>157</td>\n",
              "      <td>28</td>\n",
              "      <td>53</td>\n",
              "      <td>152</td>\n",
              "      <td>...</td>\n",
              "      <td>252</td>\n",
              "      <td>169</td>\n",
              "      <td>190</td>\n",
              "      <td>254</td>\n",
              "      <td>188</td>\n",
              "      <td>205</td>\n",
              "      <td>255</td>\n",
              "      <td>193</td>\n",
              "      <td>206</td>\n",
              "      <td>254</td>\n",
              "      <td>198</td>\n",
              "      <td>210</td>\n",
              "      <td>253</td>\n",
              "      <td>203</td>\n",
              "      <td>213</td>\n",
              "      <td>253</td>\n",
              "      <td>208</td>\n",
              "      <td>215</td>\n",
              "      <td>255</td>\n",
              "      <td>210</td>\n",
              "      <td>217</td>\n",
              "      <td>255</td>\n",
              "      <td>210</td>\n",
              "      <td>218</td>\n",
              "      <td>255</td>\n",
              "      <td>212</td>\n",
              "      <td>219</td>\n",
              "      <td>254</td>\n",
              "      <td>214</td>\n",
              "      <td>220</td>\n",
              "      <td>255</td>\n",
              "      <td>214</td>\n",
              "      <td>220</td>\n",
              "      <td>255</td>\n",
              "      <td>215</td>\n",
              "      <td>222</td>\n",
              "      <td>255</td>\n",
              "      <td>216</td>\n",
              "      <td>224</td>\n",
              "      <td>254</td>\n",
              "    </tr>\n",
              "    <tr>\n",
              "      <th>3</th>\n",
              "      <td>1.0</td>\n",
              "      <td>27</td>\n",
              "      <td>56</td>\n",
              "      <td>76</td>\n",
              "      <td>31</td>\n",
              "      <td>58</td>\n",
              "      <td>80</td>\n",
              "      <td>30</td>\n",
              "      <td>57</td>\n",
              "      <td>78</td>\n",
              "      <td>25</td>\n",
              "      <td>51</td>\n",
              "      <td>72</td>\n",
              "      <td>19</td>\n",
              "      <td>43</td>\n",
              "      <td>65</td>\n",
              "      <td>16</td>\n",
              "      <td>40</td>\n",
              "      <td>62</td>\n",
              "      <td>20</td>\n",
              "      <td>47</td>\n",
              "      <td>68</td>\n",
              "      <td>25</td>\n",
              "      <td>53</td>\n",
              "      <td>74</td>\n",
              "      <td>29</td>\n",
              "      <td>58</td>\n",
              "      <td>79</td>\n",
              "      <td>34</td>\n",
              "      <td>63</td>\n",
              "      <td>84</td>\n",
              "      <td>37</td>\n",
              "      <td>63</td>\n",
              "      <td>86</td>\n",
              "      <td>38</td>\n",
              "      <td>62</td>\n",
              "      <td>86</td>\n",
              "      <td>37</td>\n",
              "      <td>58</td>\n",
              "      <td>85</td>\n",
              "      <td>...</td>\n",
              "      <td>44</td>\n",
              "      <td>37</td>\n",
              "      <td>42</td>\n",
              "      <td>42</td>\n",
              "      <td>36</td>\n",
              "      <td>41</td>\n",
              "      <td>42</td>\n",
              "      <td>33</td>\n",
              "      <td>38</td>\n",
              "      <td>39</td>\n",
              "      <td>33</td>\n",
              "      <td>39</td>\n",
              "      <td>40</td>\n",
              "      <td>30</td>\n",
              "      <td>38</td>\n",
              "      <td>38</td>\n",
              "      <td>30</td>\n",
              "      <td>39</td>\n",
              "      <td>39</td>\n",
              "      <td>32</td>\n",
              "      <td>40</td>\n",
              "      <td>40</td>\n",
              "      <td>25</td>\n",
              "      <td>32</td>\n",
              "      <td>32</td>\n",
              "      <td>26</td>\n",
              "      <td>31</td>\n",
              "      <td>31</td>\n",
              "      <td>24</td>\n",
              "      <td>27</td>\n",
              "      <td>28</td>\n",
              "      <td>25</td>\n",
              "      <td>27</td>\n",
              "      <td>27</td>\n",
              "      <td>26</td>\n",
              "      <td>26</td>\n",
              "      <td>26</td>\n",
              "      <td>27</td>\n",
              "      <td>27</td>\n",
              "      <td>27</td>\n",
              "    </tr>\n",
              "    <tr>\n",
              "      <th>4</th>\n",
              "      <td>1.0</td>\n",
              "      <td>62</td>\n",
              "      <td>77</td>\n",
              "      <td>96</td>\n",
              "      <td>67</td>\n",
              "      <td>83</td>\n",
              "      <td>102</td>\n",
              "      <td>72</td>\n",
              "      <td>88</td>\n",
              "      <td>107</td>\n",
              "      <td>73</td>\n",
              "      <td>90</td>\n",
              "      <td>109</td>\n",
              "      <td>71</td>\n",
              "      <td>88</td>\n",
              "      <td>107</td>\n",
              "      <td>67</td>\n",
              "      <td>85</td>\n",
              "      <td>104</td>\n",
              "      <td>67</td>\n",
              "      <td>85</td>\n",
              "      <td>104</td>\n",
              "      <td>69</td>\n",
              "      <td>87</td>\n",
              "      <td>105</td>\n",
              "      <td>70</td>\n",
              "      <td>91</td>\n",
              "      <td>108</td>\n",
              "      <td>73</td>\n",
              "      <td>93</td>\n",
              "      <td>111</td>\n",
              "      <td>71</td>\n",
              "      <td>91</td>\n",
              "      <td>112</td>\n",
              "      <td>70</td>\n",
              "      <td>91</td>\n",
              "      <td>113</td>\n",
              "      <td>70</td>\n",
              "      <td>91</td>\n",
              "      <td>113</td>\n",
              "      <td>...</td>\n",
              "      <td>196</td>\n",
              "      <td>220</td>\n",
              "      <td>214</td>\n",
              "      <td>200</td>\n",
              "      <td>222</td>\n",
              "      <td>218</td>\n",
              "      <td>203</td>\n",
              "      <td>225</td>\n",
              "      <td>222</td>\n",
              "      <td>207</td>\n",
              "      <td>227</td>\n",
              "      <td>225</td>\n",
              "      <td>211</td>\n",
              "      <td>227</td>\n",
              "      <td>226</td>\n",
              "      <td>212</td>\n",
              "      <td>227</td>\n",
              "      <td>226</td>\n",
              "      <td>212</td>\n",
              "      <td>227</td>\n",
              "      <td>225</td>\n",
              "      <td>211</td>\n",
              "      <td>227</td>\n",
              "      <td>224</td>\n",
              "      <td>209</td>\n",
              "      <td>225</td>\n",
              "      <td>222</td>\n",
              "      <td>207</td>\n",
              "      <td>224</td>\n",
              "      <td>221</td>\n",
              "      <td>207</td>\n",
              "      <td>224</td>\n",
              "      <td>221</td>\n",
              "      <td>208</td>\n",
              "      <td>225</td>\n",
              "      <td>222</td>\n",
              "      <td>208</td>\n",
              "      <td>225</td>\n",
              "      <td>222</td>\n",
              "      <td>208</td>\n",
              "    </tr>\n",
              "    <tr>\n",
              "      <th>...</th>\n",
              "      <td>...</td>\n",
              "      <td>...</td>\n",
              "      <td>...</td>\n",
              "      <td>...</td>\n",
              "      <td>...</td>\n",
              "      <td>...</td>\n",
              "      <td>...</td>\n",
              "      <td>...</td>\n",
              "      <td>...</td>\n",
              "      <td>...</td>\n",
              "      <td>...</td>\n",
              "      <td>...</td>\n",
              "      <td>...</td>\n",
              "      <td>...</td>\n",
              "      <td>...</td>\n",
              "      <td>...</td>\n",
              "      <td>...</td>\n",
              "      <td>...</td>\n",
              "      <td>...</td>\n",
              "      <td>...</td>\n",
              "      <td>...</td>\n",
              "      <td>...</td>\n",
              "      <td>...</td>\n",
              "      <td>...</td>\n",
              "      <td>...</td>\n",
              "      <td>...</td>\n",
              "      <td>...</td>\n",
              "      <td>...</td>\n",
              "      <td>...</td>\n",
              "      <td>...</td>\n",
              "      <td>...</td>\n",
              "      <td>...</td>\n",
              "      <td>...</td>\n",
              "      <td>...</td>\n",
              "      <td>...</td>\n",
              "      <td>...</td>\n",
              "      <td>...</td>\n",
              "      <td>...</td>\n",
              "      <td>...</td>\n",
              "      <td>...</td>\n",
              "      <td>...</td>\n",
              "      <td>...</td>\n",
              "      <td>...</td>\n",
              "      <td>...</td>\n",
              "      <td>...</td>\n",
              "      <td>...</td>\n",
              "      <td>...</td>\n",
              "      <td>...</td>\n",
              "      <td>...</td>\n",
              "      <td>...</td>\n",
              "      <td>...</td>\n",
              "      <td>...</td>\n",
              "      <td>...</td>\n",
              "      <td>...</td>\n",
              "      <td>...</td>\n",
              "      <td>...</td>\n",
              "      <td>...</td>\n",
              "      <td>...</td>\n",
              "      <td>...</td>\n",
              "      <td>...</td>\n",
              "      <td>...</td>\n",
              "      <td>...</td>\n",
              "      <td>...</td>\n",
              "      <td>...</td>\n",
              "      <td>...</td>\n",
              "      <td>...</td>\n",
              "      <td>...</td>\n",
              "      <td>...</td>\n",
              "      <td>...</td>\n",
              "      <td>...</td>\n",
              "      <td>...</td>\n",
              "      <td>...</td>\n",
              "      <td>...</td>\n",
              "      <td>...</td>\n",
              "      <td>...</td>\n",
              "      <td>...</td>\n",
              "      <td>...</td>\n",
              "      <td>...</td>\n",
              "      <td>...</td>\n",
              "      <td>...</td>\n",
              "      <td>...</td>\n",
              "    </tr>\n",
              "    <tr>\n",
              "      <th>1995</th>\n",
              "      <td>0.0</td>\n",
              "      <td>113</td>\n",
              "      <td>120</td>\n",
              "      <td>135</td>\n",
              "      <td>108</td>\n",
              "      <td>115</td>\n",
              "      <td>130</td>\n",
              "      <td>100</td>\n",
              "      <td>107</td>\n",
              "      <td>122</td>\n",
              "      <td>93</td>\n",
              "      <td>100</td>\n",
              "      <td>115</td>\n",
              "      <td>87</td>\n",
              "      <td>94</td>\n",
              "      <td>109</td>\n",
              "      <td>85</td>\n",
              "      <td>92</td>\n",
              "      <td>107</td>\n",
              "      <td>85</td>\n",
              "      <td>92</td>\n",
              "      <td>107</td>\n",
              "      <td>86</td>\n",
              "      <td>92</td>\n",
              "      <td>108</td>\n",
              "      <td>86</td>\n",
              "      <td>94</td>\n",
              "      <td>109</td>\n",
              "      <td>89</td>\n",
              "      <td>96</td>\n",
              "      <td>111</td>\n",
              "      <td>93</td>\n",
              "      <td>100</td>\n",
              "      <td>115</td>\n",
              "      <td>104</td>\n",
              "      <td>111</td>\n",
              "      <td>126</td>\n",
              "      <td>119</td>\n",
              "      <td>127</td>\n",
              "      <td>140</td>\n",
              "      <td>...</td>\n",
              "      <td>192</td>\n",
              "      <td>118</td>\n",
              "      <td>126</td>\n",
              "      <td>196</td>\n",
              "      <td>122</td>\n",
              "      <td>130</td>\n",
              "      <td>200</td>\n",
              "      <td>126</td>\n",
              "      <td>134</td>\n",
              "      <td>204</td>\n",
              "      <td>126</td>\n",
              "      <td>135</td>\n",
              "      <td>203</td>\n",
              "      <td>126</td>\n",
              "      <td>135</td>\n",
              "      <td>203</td>\n",
              "      <td>129</td>\n",
              "      <td>136</td>\n",
              "      <td>205</td>\n",
              "      <td>131</td>\n",
              "      <td>138</td>\n",
              "      <td>206</td>\n",
              "      <td>128</td>\n",
              "      <td>134</td>\n",
              "      <td>201</td>\n",
              "      <td>120</td>\n",
              "      <td>126</td>\n",
              "      <td>193</td>\n",
              "      <td>109</td>\n",
              "      <td>115</td>\n",
              "      <td>182</td>\n",
              "      <td>99</td>\n",
              "      <td>102</td>\n",
              "      <td>170</td>\n",
              "      <td>90</td>\n",
              "      <td>94</td>\n",
              "      <td>160</td>\n",
              "      <td>84</td>\n",
              "      <td>88</td>\n",
              "      <td>153</td>\n",
              "    </tr>\n",
              "    <tr>\n",
              "      <th>1996</th>\n",
              "      <td>0.0</td>\n",
              "      <td>52</td>\n",
              "      <td>11</td>\n",
              "      <td>16</td>\n",
              "      <td>51</td>\n",
              "      <td>10</td>\n",
              "      <td>15</td>\n",
              "      <td>51</td>\n",
              "      <td>10</td>\n",
              "      <td>15</td>\n",
              "      <td>50</td>\n",
              "      <td>10</td>\n",
              "      <td>15</td>\n",
              "      <td>50</td>\n",
              "      <td>10</td>\n",
              "      <td>15</td>\n",
              "      <td>50</td>\n",
              "      <td>11</td>\n",
              "      <td>13</td>\n",
              "      <td>49</td>\n",
              "      <td>11</td>\n",
              "      <td>13</td>\n",
              "      <td>49</td>\n",
              "      <td>12</td>\n",
              "      <td>14</td>\n",
              "      <td>48</td>\n",
              "      <td>14</td>\n",
              "      <td>15</td>\n",
              "      <td>48</td>\n",
              "      <td>14</td>\n",
              "      <td>15</td>\n",
              "      <td>49</td>\n",
              "      <td>15</td>\n",
              "      <td>15</td>\n",
              "      <td>50</td>\n",
              "      <td>16</td>\n",
              "      <td>16</td>\n",
              "      <td>50</td>\n",
              "      <td>16</td>\n",
              "      <td>17</td>\n",
              "      <td>...</td>\n",
              "      <td>219</td>\n",
              "      <td>136</td>\n",
              "      <td>191</td>\n",
              "      <td>216</td>\n",
              "      <td>137</td>\n",
              "      <td>191</td>\n",
              "      <td>214</td>\n",
              "      <td>137</td>\n",
              "      <td>191</td>\n",
              "      <td>214</td>\n",
              "      <td>137</td>\n",
              "      <td>191</td>\n",
              "      <td>214</td>\n",
              "      <td>137</td>\n",
              "      <td>191</td>\n",
              "      <td>214</td>\n",
              "      <td>137</td>\n",
              "      <td>191</td>\n",
              "      <td>214</td>\n",
              "      <td>137</td>\n",
              "      <td>191</td>\n",
              "      <td>214</td>\n",
              "      <td>137</td>\n",
              "      <td>191</td>\n",
              "      <td>214</td>\n",
              "      <td>138</td>\n",
              "      <td>192</td>\n",
              "      <td>215</td>\n",
              "      <td>138</td>\n",
              "      <td>192</td>\n",
              "      <td>215</td>\n",
              "      <td>138</td>\n",
              "      <td>192</td>\n",
              "      <td>215</td>\n",
              "      <td>137</td>\n",
              "      <td>191</td>\n",
              "      <td>214</td>\n",
              "      <td>137</td>\n",
              "      <td>191</td>\n",
              "      <td>214</td>\n",
              "    </tr>\n",
              "    <tr>\n",
              "      <th>1997</th>\n",
              "      <td>0.0</td>\n",
              "      <td>138</td>\n",
              "      <td>150</td>\n",
              "      <td>160</td>\n",
              "      <td>137</td>\n",
              "      <td>149</td>\n",
              "      <td>159</td>\n",
              "      <td>136</td>\n",
              "      <td>148</td>\n",
              "      <td>158</td>\n",
              "      <td>135</td>\n",
              "      <td>147</td>\n",
              "      <td>157</td>\n",
              "      <td>135</td>\n",
              "      <td>146</td>\n",
              "      <td>157</td>\n",
              "      <td>136</td>\n",
              "      <td>145</td>\n",
              "      <td>158</td>\n",
              "      <td>137</td>\n",
              "      <td>146</td>\n",
              "      <td>159</td>\n",
              "      <td>132</td>\n",
              "      <td>141</td>\n",
              "      <td>154</td>\n",
              "      <td>120</td>\n",
              "      <td>129</td>\n",
              "      <td>142</td>\n",
              "      <td>105</td>\n",
              "      <td>113</td>\n",
              "      <td>126</td>\n",
              "      <td>88</td>\n",
              "      <td>96</td>\n",
              "      <td>109</td>\n",
              "      <td>71</td>\n",
              "      <td>79</td>\n",
              "      <td>92</td>\n",
              "      <td>59</td>\n",
              "      <td>68</td>\n",
              "      <td>80</td>\n",
              "      <td>...</td>\n",
              "      <td>197</td>\n",
              "      <td>114</td>\n",
              "      <td>127</td>\n",
              "      <td>212</td>\n",
              "      <td>125</td>\n",
              "      <td>140</td>\n",
              "      <td>226</td>\n",
              "      <td>133</td>\n",
              "      <td>147</td>\n",
              "      <td>235</td>\n",
              "      <td>131</td>\n",
              "      <td>146</td>\n",
              "      <td>234</td>\n",
              "      <td>127</td>\n",
              "      <td>144</td>\n",
              "      <td>231</td>\n",
              "      <td>121</td>\n",
              "      <td>137</td>\n",
              "      <td>226</td>\n",
              "      <td>114</td>\n",
              "      <td>131</td>\n",
              "      <td>220</td>\n",
              "      <td>107</td>\n",
              "      <td>125</td>\n",
              "      <td>214</td>\n",
              "      <td>105</td>\n",
              "      <td>123</td>\n",
              "      <td>214</td>\n",
              "      <td>104</td>\n",
              "      <td>122</td>\n",
              "      <td>213</td>\n",
              "      <td>104</td>\n",
              "      <td>123</td>\n",
              "      <td>214</td>\n",
              "      <td>103</td>\n",
              "      <td>121</td>\n",
              "      <td>213</td>\n",
              "      <td>100</td>\n",
              "      <td>118</td>\n",
              "      <td>211</td>\n",
              "    </tr>\n",
              "    <tr>\n",
              "      <th>1998</th>\n",
              "      <td>0.0</td>\n",
              "      <td>39</td>\n",
              "      <td>6</td>\n",
              "      <td>13</td>\n",
              "      <td>39</td>\n",
              "      <td>6</td>\n",
              "      <td>13</td>\n",
              "      <td>39</td>\n",
              "      <td>6</td>\n",
              "      <td>13</td>\n",
              "      <td>39</td>\n",
              "      <td>6</td>\n",
              "      <td>13</td>\n",
              "      <td>39</td>\n",
              "      <td>6</td>\n",
              "      <td>13</td>\n",
              "      <td>39</td>\n",
              "      <td>5</td>\n",
              "      <td>15</td>\n",
              "      <td>39</td>\n",
              "      <td>6</td>\n",
              "      <td>15</td>\n",
              "      <td>40</td>\n",
              "      <td>6</td>\n",
              "      <td>16</td>\n",
              "      <td>41</td>\n",
              "      <td>7</td>\n",
              "      <td>17</td>\n",
              "      <td>43</td>\n",
              "      <td>9</td>\n",
              "      <td>19</td>\n",
              "      <td>45</td>\n",
              "      <td>11</td>\n",
              "      <td>20</td>\n",
              "      <td>46</td>\n",
              "      <td>12</td>\n",
              "      <td>22</td>\n",
              "      <td>44</td>\n",
              "      <td>14</td>\n",
              "      <td>21</td>\n",
              "      <td>...</td>\n",
              "      <td>40</td>\n",
              "      <td>39</td>\n",
              "      <td>25</td>\n",
              "      <td>37</td>\n",
              "      <td>43</td>\n",
              "      <td>26</td>\n",
              "      <td>39</td>\n",
              "      <td>43</td>\n",
              "      <td>28</td>\n",
              "      <td>42</td>\n",
              "      <td>43</td>\n",
              "      <td>30</td>\n",
              "      <td>45</td>\n",
              "      <td>44</td>\n",
              "      <td>31</td>\n",
              "      <td>47</td>\n",
              "      <td>46</td>\n",
              "      <td>32</td>\n",
              "      <td>50</td>\n",
              "      <td>47</td>\n",
              "      <td>35</td>\n",
              "      <td>54</td>\n",
              "      <td>53</td>\n",
              "      <td>41</td>\n",
              "      <td>61</td>\n",
              "      <td>63</td>\n",
              "      <td>51</td>\n",
              "      <td>73</td>\n",
              "      <td>72</td>\n",
              "      <td>63</td>\n",
              "      <td>84</td>\n",
              "      <td>83</td>\n",
              "      <td>74</td>\n",
              "      <td>97</td>\n",
              "      <td>95</td>\n",
              "      <td>87</td>\n",
              "      <td>112</td>\n",
              "      <td>107</td>\n",
              "      <td>98</td>\n",
              "      <td>124</td>\n",
              "    </tr>\n",
              "    <tr>\n",
              "      <th>1999</th>\n",
              "      <td>0.0</td>\n",
              "      <td>141</td>\n",
              "      <td>151</td>\n",
              "      <td>161</td>\n",
              "      <td>134</td>\n",
              "      <td>144</td>\n",
              "      <td>154</td>\n",
              "      <td>126</td>\n",
              "      <td>136</td>\n",
              "      <td>146</td>\n",
              "      <td>120</td>\n",
              "      <td>131</td>\n",
              "      <td>139</td>\n",
              "      <td>116</td>\n",
              "      <td>127</td>\n",
              "      <td>135</td>\n",
              "      <td>113</td>\n",
              "      <td>124</td>\n",
              "      <td>132</td>\n",
              "      <td>109</td>\n",
              "      <td>120</td>\n",
              "      <td>128</td>\n",
              "      <td>100</td>\n",
              "      <td>111</td>\n",
              "      <td>119</td>\n",
              "      <td>99</td>\n",
              "      <td>110</td>\n",
              "      <td>118</td>\n",
              "      <td>97</td>\n",
              "      <td>109</td>\n",
              "      <td>116</td>\n",
              "      <td>93</td>\n",
              "      <td>103</td>\n",
              "      <td>112</td>\n",
              "      <td>87</td>\n",
              "      <td>98</td>\n",
              "      <td>106</td>\n",
              "      <td>81</td>\n",
              "      <td>93</td>\n",
              "      <td>100</td>\n",
              "      <td>...</td>\n",
              "      <td>4</td>\n",
              "      <td>49</td>\n",
              "      <td>31</td>\n",
              "      <td>3</td>\n",
              "      <td>48</td>\n",
              "      <td>29</td>\n",
              "      <td>2</td>\n",
              "      <td>47</td>\n",
              "      <td>27</td>\n",
              "      <td>2</td>\n",
              "      <td>47</td>\n",
              "      <td>27</td>\n",
              "      <td>2</td>\n",
              "      <td>46</td>\n",
              "      <td>26</td>\n",
              "      <td>1</td>\n",
              "      <td>45</td>\n",
              "      <td>26</td>\n",
              "      <td>0</td>\n",
              "      <td>44</td>\n",
              "      <td>25</td>\n",
              "      <td>0</td>\n",
              "      <td>41</td>\n",
              "      <td>24</td>\n",
              "      <td>0</td>\n",
              "      <td>41</td>\n",
              "      <td>23</td>\n",
              "      <td>0</td>\n",
              "      <td>40</td>\n",
              "      <td>22</td>\n",
              "      <td>0</td>\n",
              "      <td>43</td>\n",
              "      <td>24</td>\n",
              "      <td>2</td>\n",
              "      <td>46</td>\n",
              "      <td>26</td>\n",
              "      <td>4</td>\n",
              "      <td>50</td>\n",
              "      <td>26</td>\n",
              "      <td>8</td>\n",
              "    </tr>\n",
              "  </tbody>\n",
              "</table>\n",
              "<p>2447 rows × 49153 columns</p>\n",
              "</div>"
            ],
            "text/plain": [
              "      target    0    1    2    3    4  ...  49146  49147  49148  49149  49150  49151\n",
              "0        1.0   96   80   68   96   80  ...    107     99     92    107     99     92\n",
              "1        1.0   12    8   74   11    8  ...    231    243    252    229    240    254\n",
              "2        1.0  134  160  224  134  159  ...    215    222    255    216    224    254\n",
              "3        1.0   27   56   76   31   58  ...     26     26     26     27     27     27\n",
              "4        1.0   62   77   96   67   83  ...    225    222    208    225    222    208\n",
              "...      ...  ...  ...  ...  ...  ...  ...    ...    ...    ...    ...    ...    ...\n",
              "1995     0.0  113  120  135  108  115  ...     90     94    160     84     88    153\n",
              "1996     0.0   52   11   16   51   10  ...    137    191    214    137    191    214\n",
              "1997     0.0  138  150  160  137  149  ...    103    121    213    100    118    211\n",
              "1998     0.0   39    6   13   39    6  ...     95     87    112    107     98    124\n",
              "1999     0.0  141  151  161  134  144  ...     46     26      4     50     26      8\n",
              "\n",
              "[2447 rows x 49153 columns]"
            ]
          },
          "metadata": {
            "tags": []
          },
          "execution_count": 37
        }
      ]
    },
    {
      "cell_type": "code",
      "metadata": {
        "colab": {
          "base_uri": "https://localhost:8080/",
          "height": 282
        },
        "id": "gLJ3Bi8S78p4",
        "outputId": "74c32f3b-43ba-4565-ae88-01f403df843f"
      },
      "source": [
        "#Scatterplot\n",
        "l=[]\n",
        "for i in range(2447):\n",
        "  l.append(i)\n",
        "import seaborn as sns\n",
        "sns.scatterplot(x=x_pca[:,0],y=l,hue=df['target'])"
      ],
      "execution_count": 38,
      "outputs": [
        {
          "output_type": "execute_result",
          "data": {
            "text/plain": [
              "<matplotlib.axes._subplots.AxesSubplot at 0x7f6832ad7610>"
            ]
          },
          "metadata": {
            "tags": []
          },
          "execution_count": 38
        },
        {
          "output_type": "display_data",
          "data": {
            "image/png": "[encoded data removed]",
            "text/plain": [
              "<Figure size 432x288 with 1 Axes>"
            ]
          },
          "metadata": {
            "tags": [],
            "needs_background": "light"
          }
        }
      ]
    },
    {
      "cell_type": "markdown",
      "metadata": {
        "id": "aY0BdLRg92bp"
      },
      "source": [
        "**LDA**\n"
      ]
    },
    {
      "cell_type": "code",
      "metadata": {
        "colab": {
          "base_uri": "https://localhost:8080/"
        },
        "id": "jSg98m2g9LEZ",
        "outputId": "c38b8dc9-f44c-48b3-f62d-148737f5c6a7"
      },
      "source": [
        "#Feature Scaling\n",
        "from sklearn.preprocessing import StandardScaler\n",
        "st = StandardScaler()\n",
        "x_lda = st.fit_transform(x)\n",
        "#Choosing the number of Linear Discriminants to be Two\n",
        "from sklearn.discriminant_analysis import LinearDiscriminantAnalysis\n",
        "lda = LinearDiscriminantAnalysis(n_components=2)\n",
        "lda.fit(x_lda,y)"
      ],
      "execution_count": 39,
      "outputs": [
        {
          "output_type": "stream",
          "text": [
            "/usr/local/lib/python3.7/dist-packages/sklearn/discriminant_analysis.py:463: ChangedBehaviorWarning: n_components cannot be larger than min(n_features, n_classes - 1). Using min(n_features, n_classes - 1) = min(49152, 2 - 1) = 1 components.\n",
            "  ChangedBehaviorWarning)\n",
            "/usr/local/lib/python3.7/dist-packages/sklearn/discriminant_analysis.py:469: FutureWarning: In version 0.23, setting n_components > min(n_features, n_classes - 1) will raise a ValueError. You should set n_components to None (default), or a value smaller or equal to min(n_features, n_classes - 1).\n",
            "  warnings.warn(future_msg, FutureWarning)\n"
          ],
          "name": "stderr"
        },
        {
          "output_type": "execute_result",
          "data": {
            "text/plain": [
              "LinearDiscriminantAnalysis(n_components=2, priors=None, shrinkage=None,\n",
              "                           solver='svd', store_covariance=False, tol=0.0001)"
            ]
          },
          "metadata": {
            "tags": []
          },
          "execution_count": 39
        }
      ]
    },
    {
      "cell_type": "code",
      "metadata": {
        "colab": {
          "base_uri": "https://localhost:8080/"
        },
        "id": "xnmM8JCi9Yjr",
        "outputId": "8581eab9-2bf5-4b44-9abc-5eb6244357d4"
      },
      "source": [
        "#Number of Components\n",
        "lda.n_components"
      ],
      "execution_count": 40,
      "outputs": [
        {
          "output_type": "execute_result",
          "data": {
            "text/plain": [
              "2"
            ]
          },
          "metadata": {
            "tags": []
          },
          "execution_count": 40
        }
      ]
    },
    {
      "cell_type": "code",
      "metadata": {
        "id": "qSKY7MVk9fVD"
      },
      "source": [
        "#Transformation\n",
        "x_lda = lda.transform(x_lda)"
      ],
      "execution_count": 41,
      "outputs": []
    },
    {
      "cell_type": "code",
      "metadata": {
        "id": "kagMvEe99irv"
      },
      "source": [
        "#Train-Test Split for LDA Tranformed Features\n",
        "x_train_lda, x_test_lda, y_train_lda, y_test_lda = train_test_split(x_lda, y, test_size=0.2, random_state=42)"
      ],
      "execution_count": 42,
      "outputs": []
    },
    {
      "cell_type": "code",
      "metadata": {
        "colab": {
          "base_uri": "https://localhost:8080/"
        },
        "id": "9qgWcSo_Bu2v",
        "outputId": "8278e499-61e0-4eff-92f6-9abef408fa03"
      },
      "source": [
        "x_lda.shape"
      ],
      "execution_count": 43,
      "outputs": [
        {
          "output_type": "execute_result",
          "data": {
            "text/plain": [
              "(2447, 1)"
            ]
          },
          "metadata": {
            "tags": []
          },
          "execution_count": 43
        }
      ]
    },
    {
      "cell_type": "code",
      "metadata": {
        "colab": {
          "base_uri": "https://localhost:8080/"
        },
        "id": "kc7g3ikjFOJp",
        "outputId": "88f1c851-2be2-4abc-b1ad-511eecd7a432"
      },
      "source": [
        "np.unique(x_lda)"
      ],
      "execution_count": 44,
      "outputs": [
        {
          "output_type": "execute_result",
          "data": {
            "text/plain": [
              "array([-6.43471899, -6.19139723, -6.03962722, ..., 11.36799353,\n",
              "       12.2627001 , 13.64254069])"
            ]
          },
          "metadata": {
            "tags": []
          },
          "execution_count": 44
        }
      ]
    },
    {
      "cell_type": "code",
      "metadata": {
        "colab": {
          "base_uri": "https://localhost:8080/",
          "height": 282
        },
        "id": "0S5ZR1Gd9lHE",
        "outputId": "5bd0827c-80fe-41d9-9026-d48f91d3661e"
      },
      "source": [
        "#Scatterplot\n",
        "sns.scatterplot(x=x_lda[:,0],y=l,hue=df['target'])"
      ],
      "execution_count": 45,
      "outputs": [
        {
          "output_type": "execute_result",
          "data": {
            "text/plain": [
              "<matplotlib.axes._subplots.AxesSubplot at 0x7f6854dcd4d0>"
            ]
          },
          "metadata": {
            "tags": []
          },
          "execution_count": 45
        },
        {
          "output_type": "display_data",
          "data": {
            "image/png": "[encoded data removed]",
            "text/plain": [
              "<Figure size 432x288 with 1 Axes>"
            ]
          },
          "metadata": {
            "tags": [],
            "needs_background": "light"
          }
        }
      ]
    },
    {
      "cell_type": "code",
      "metadata": {
        "id": "t9zECmdC9pWU"
      },
      "source": [
        "from sklearn.metrics import accuracy_score\n",
        "from sklearn.metrics import f1_score\n",
        "from sklearn.metrics import roc_auc_score\n",
        "from sklearn.metrics import roc_curve\n",
        "\n",
        "def make_score(y_test,y_pred):\n",
        "  acc = round(accuracy_score(y_test,y_pred),3)\n",
        "  f1 = round(f1_score(y_test,y_pred),3)\n",
        "  auc = round(roc_auc_score(y_test,y_pred),3)\n",
        "  print(f\"Accuracy - {acc}\\n F1 score - {f1}\\n AUC - {auc}\")"
      ],
      "execution_count": 46,
      "outputs": []
    },
    {
      "cell_type": "markdown",
      "metadata": {
        "id": "5AYEveam95gT"
      },
      "source": [
        "**SELECTING THE DESIRED MODELS**\n"
      ]
    },
    {
      "cell_type": "markdown",
      "metadata": {
        "id": "NQpA25QO-ND3"
      },
      "source": [
        "**Multi Layer Perceptron Classifier**\n"
      ]
    },
    {
      "cell_type": "code",
      "metadata": {
        "id": "Sezwgg_s9-MY"
      },
      "source": [
        "#Multi Layer Perceptron\n",
        "from sklearn.neural_network import MLPClassifier\n",
        "mlp = MLPClassifier(activation='relu',solver='adam',hidden_layer_sizes=(100,),alpha=0.0001,batch_size=250,learning_rate_init=0.001,random_state=42,warm_start=False)"
      ],
      "execution_count": 47,
      "outputs": []
    },
    {
      "cell_type": "code",
      "metadata": {
        "id": "lMFG0aTmCkGQ"
      },
      "source": [
        "from sklearn.model_selection import cross_val_score"
      ],
      "execution_count": 48,
      "outputs": []
    },
    {
      "cell_type": "code",
      "metadata": {
        "colab": {
          "base_uri": "https://localhost:8080/"
        },
        "id": "A2KGyTVo-Qvs",
        "outputId": "f1d8c4ea-900f-4c6d-972e-6136c4cc89b6"
      },
      "source": [
        "#For data without Dimensionality Reduction\n",
        "mlp.fit(x_train,y_train)\n",
        "cross_val_score(mlp,x,y,cv=5)"
      ],
      "execution_count": 49,
      "outputs": [
        {
          "output_type": "stream",
          "text": [
            "/usr/local/lib/python3.7/dist-packages/sklearn/neural_network/_multilayer_perceptron.py:571: ConvergenceWarning: Stochastic Optimizer: Maximum iterations (200) reached and the optimization hasn't converged yet.\n",
            "  % self.max_iter, ConvergenceWarning)\n",
            "/usr/local/lib/python3.7/dist-packages/sklearn/neural_network/_multilayer_perceptron.py:571: ConvergenceWarning: Stochastic Optimizer: Maximum iterations (200) reached and the optimization hasn't converged yet.\n",
            "  % self.max_iter, ConvergenceWarning)\n",
            "/usr/local/lib/python3.7/dist-packages/sklearn/neural_network/_multilayer_perceptron.py:573: UserWarning: Training interrupted by user.\n",
            "  warnings.warn(\"Training interrupted by user.\")\n",
            "/usr/local/lib/python3.7/dist-packages/sklearn/neural_network/_multilayer_perceptron.py:573: UserWarning: Training interrupted by user.\n",
            "  warnings.warn(\"Training interrupted by user.\")\n",
            "/usr/local/lib/python3.7/dist-packages/sklearn/neural_network/_multilayer_perceptron.py:573: UserWarning: Training interrupted by user.\n",
            "  warnings.warn(\"Training interrupted by user.\")\n"
          ],
          "name": "stderr"
        },
        {
          "output_type": "execute_result",
          "data": {
            "text/plain": [
              "array([0.88163265, 0.91020408, 0.95705521, 0.90797546, 0.81799591])"
            ]
          },
          "metadata": {
            "tags": []
          },
          "execution_count": 49
        }
      ]
    },
    {
      "cell_type": "code",
      "metadata": {
        "colab": {
          "base_uri": "https://localhost:8080/"
        },
        "id": "vJ1S6UFQ-TkZ",
        "outputId": "e18e43a9-5491-48ba-a50b-8982be57b00e"
      },
      "source": [
        "y_pred_dtc = mlp.predict(x_test)\n",
        "make_score(y_test,y_pred_dtc)"
      ],
      "execution_count": 50,
      "outputs": [
        {
          "output_type": "stream",
          "text": [
            "Accuracy - 0.954\n",
            " F1 score - 0.872\n",
            " AUC - 0.901\n"
          ],
          "name": "stdout"
        }
      ]
    },
    {
      "cell_type": "code",
      "metadata": {
        "colab": {
          "base_uri": "https://localhost:8080/"
        },
        "id": "XjDtua90-hqf",
        "outputId": "8e653510-c631-4507-8ab5-d053625a7781"
      },
      "source": [
        "#Using Features obtained from PCA\n",
        "mlp.fit(x_train_pca,y_train_pca)\n",
        "cross_val_score(mlp,x_pca,y,cv=5)"
      ],
      "execution_count": 51,
      "outputs": [
        {
          "output_type": "execute_result",
          "data": {
            "text/plain": [
              "array([0.93877551, 0.91020408, 0.90797546, 0.93865031, 0.95092025])"
            ]
          },
          "metadata": {
            "tags": []
          },
          "execution_count": 51
        }
      ]
    },
    {
      "cell_type": "code",
      "metadata": {
        "colab": {
          "base_uri": "https://localhost:8080/"
        },
        "id": "mZHEo53P-jbi",
        "outputId": "595baba6-01f4-4474-80ba-0001886b85c4"
      },
      "source": [
        "y_pred_dtc = mlp.predict(x_test_pca)\n",
        "make_score(y_test_pca,y_pred_dtc)"
      ],
      "execution_count": 52,
      "outputs": [
        {
          "output_type": "stream",
          "text": [
            "Accuracy - 0.951\n",
            " F1 score - 0.865\n",
            " AUC - 0.918\n"
          ],
          "name": "stdout"
        }
      ]
    },
    {
      "cell_type": "code",
      "metadata": {
        "colab": {
          "base_uri": "https://localhost:8080/"
        },
        "id": "CNNmr3F4-x7y",
        "outputId": "4f44032d-d434-4940-b98a-591fb8d13839"
      },
      "source": [
        "#Using Features obtained from LDA\n",
        "mlp.fit(x_train_lda,y_train_lda)\n",
        "cross_val_score(mlp,x_lda,y,cv=5)"
      ],
      "execution_count": 53,
      "outputs": [
        {
          "output_type": "execute_result",
          "data": {
            "text/plain": [
              "array([0.99795918, 1.        , 0.99386503, 0.99795501, 0.99795501])"
            ]
          },
          "metadata": {
            "tags": []
          },
          "execution_count": 53
        }
      ]
    },
    {
      "cell_type": "code",
      "metadata": {
        "colab": {
          "base_uri": "https://localhost:8080/"
        },
        "id": "ToVbOt2b-zxY",
        "outputId": "6f77393e-6b13-4229-89ef-d6aa7e6e89ac"
      },
      "source": [
        "y_pred_dtc = mlp.predict(x_test_lda)\n",
        "make_score(y_test_lda,y_pred_dtc)"
      ],
      "execution_count": 54,
      "outputs": [
        {
          "output_type": "stream",
          "text": [
            "Accuracy - 0.996\n",
            " F1 score - 0.989\n",
            " AUC - 0.998\n"
          ],
          "name": "stdout"
        }
      ]
    },
    {
      "cell_type": "markdown",
      "metadata": {
        "id": "d0hWTcFJG4Xn"
      },
      "source": [
        "**Decision Tree Classifier**\n"
      ]
    },
    {
      "cell_type": "code",
      "metadata": {
        "id": "9cfP1NM6-29s"
      },
      "source": [
        "#Decision Tree Classifier\n",
        "from sklearn.tree import DecisionTreeClassifier\n",
        "dtc = DecisionTreeClassifier(max_depth=7,min_samples_split=0.08,max_leaf_nodes=15)"
      ],
      "execution_count": 55,
      "outputs": []
    },
    {
      "cell_type": "code",
      "metadata": {
        "colab": {
          "base_uri": "https://localhost:8080/"
        },
        "id": "swO8_4aMEPRv",
        "outputId": "a11cc8b4-9e8b-43a3-9829-498fbc2d3dd2"
      },
      "source": [
        "#For data without Dimensionality Reduction\n",
        "dtc.fit(x_train,y_train)\n",
        "cross_val_score(dtc,x,y,cv=5)"
      ],
      "execution_count": 56,
      "outputs": [
        {
          "output_type": "execute_result",
          "data": {
            "text/plain": [
              "array([0.91632653, 0.90204082, 0.8997955 , 0.90593047, 0.94478528])"
            ]
          },
          "metadata": {
            "tags": []
          },
          "execution_count": 56
        }
      ]
    },
    {
      "cell_type": "code",
      "metadata": {
        "colab": {
          "base_uri": "https://localhost:8080/"
        },
        "id": "h_0fJ1ZLERnT",
        "outputId": "6ae540bc-9029-4a84-b2a8-677896667ffd"
      },
      "source": [
        "y_pred_dtc = dtc.predict(x_test)\n",
        "make_score(y_test,y_pred_dtc)"
      ],
      "execution_count": 57,
      "outputs": [
        {
          "output_type": "stream",
          "text": [
            "Accuracy - 0.92\n",
            " F1 score - 0.773\n",
            " AUC - 0.842\n"
          ],
          "name": "stdout"
        }
      ]
    },
    {
      "cell_type": "code",
      "metadata": {
        "id": "8zG3282UG9Dv",
        "colab": {
          "base_uri": "https://localhost:8080/"
        },
        "outputId": "a8eae5e0-02ba-432d-c1f0-d04a7f4fb81d"
      },
      "source": [
        "#Using Features obtained from PCA\n",
        "#PCA should be used mainly for variables which are strongly correlated. If the relationship is weak between variables, PCA does not work well to reduce data.\n",
        "dtc.fit(x_train_pca,y_train_pca)\n",
        "cross_val_score(dtc,x_pca,y,cv=5)"
      ],
      "execution_count": 58,
      "outputs": [
        {
          "output_type": "execute_result",
          "data": {
            "text/plain": [
              "array([0.86938776, 0.83469388, 0.83640082, 0.8609407 , 0.85685072])"
            ]
          },
          "metadata": {
            "tags": []
          },
          "execution_count": 58
        }
      ]
    },
    {
      "cell_type": "code",
      "metadata": {
        "id": "Izph0xLNHBDL",
        "colab": {
          "base_uri": "https://localhost:8080/"
        },
        "outputId": "6e91c856-09bb-4b34-b7e6-d6e99fc8a5b3"
      },
      "source": [
        "y_pred_dtc = dtc.predict(x_test_pca)\n",
        "make_score(y_test_pca,y_pred_dtc)"
      ],
      "execution_count": 59,
      "outputs": [
        {
          "output_type": "stream",
          "text": [
            "Accuracy - 0.89\n",
            " F1 score - 0.654\n",
            " AUC - 0.767\n"
          ],
          "name": "stdout"
        }
      ]
    },
    {
      "cell_type": "code",
      "metadata": {
        "id": "beuyaPQ0HEQQ",
        "colab": {
          "base_uri": "https://localhost:8080/"
        },
        "outputId": "6b2f29c1-29f9-4e5d-ad6b-e5c57f2769f5"
      },
      "source": [
        "#Using Features obtained from LDA\n",
        "dtc.fit(x_train_lda,y_train_lda)\n",
        "cross_val_score(dtc,x_lda,y,cv=5)"
      ],
      "execution_count": 60,
      "outputs": [
        {
          "output_type": "execute_result",
          "data": {
            "text/plain": [
              "array([0.99795918, 0.99795918, 0.98977505, 0.99591002, 0.99795501])"
            ]
          },
          "metadata": {
            "tags": []
          },
          "execution_count": 60
        }
      ]
    },
    {
      "cell_type": "code",
      "metadata": {
        "id": "xEsgjFNCHH1J",
        "colab": {
          "base_uri": "https://localhost:8080/"
        },
        "outputId": "fb62c36f-1d73-4f0c-c4a2-4e71e24807f5"
      },
      "source": [
        "y_pred_dtc = dtc.predict(x_test_lda)\n",
        "make_score(y_test_lda,y_pred_dtc)"
      ],
      "execution_count": 61,
      "outputs": [
        {
          "output_type": "stream",
          "text": [
            "Accuracy - 0.996\n",
            " F1 score - 0.989\n",
            " AUC - 0.998\n"
          ],
          "name": "stdout"
        }
      ]
    },
    {
      "cell_type": "markdown",
      "metadata": {
        "id": "PaDqSgpPJm4j"
      },
      "source": [
        "**AdaBoost**\n"
      ]
    },
    {
      "cell_type": "code",
      "metadata": {
        "id": "cs5mAWRHJRon"
      },
      "source": [
        "#ADABoost\n",
        "stump = DecisionTreeClassifier(criterion=\"gini\", max_depth=2,max_leaf_nodes=10)\n",
        "from sklearn.ensemble import AdaBoostClassifier\n",
        "boost = AdaBoostClassifier(stump ,n_estimators=100)"
      ],
      "execution_count": 69,
      "outputs": []
    },
    {
      "cell_type": "code",
      "metadata": {
        "id": "u4K01AQ3fXZQ"
      },
      "source": [
        "y_pred_dtc = boost.predict(x_test)\n",
        "make_score(y_test,y_pred_dtc)"
      ],
      "execution_count": null,
      "outputs": []
    },
    {
      "cell_type": "code",
      "metadata": {
        "colab": {
          "base_uri": "https://localhost:8080/"
        },
        "id": "knjNuYFxfXbg",
        "outputId": "245e11b8-f6cf-4102-cb99-900f423df814"
      },
      "source": [
        "#Using Features obtained from PCA\n",
        "boost.fit(x_train_pca,y_train_pca)\n",
        "cross_val_score(boost,x_pca,y,cv=3)"
      ],
      "execution_count": 71,
      "outputs": [
        {
          "output_type": "execute_result",
          "data": {
            "text/plain": [
              "array([0.92892157, 0.93382353, 0.95705521])"
            ]
          },
          "metadata": {
            "tags": []
          },
          "execution_count": 71
        }
      ]
    },
    {
      "cell_type": "code",
      "metadata": {
        "colab": {
          "base_uri": "https://localhost:8080/"
        },
        "id": "YKskaSfwfXdp",
        "outputId": "3734c9b8-6b7b-4b96-9a2c-06776172c94a"
      },
      "source": [
        "y_pred_dtc = boost.predict(x_test_pca)\n",
        "make_score(y_test_pca,y_pred_dtc)"
      ],
      "execution_count": 72,
      "outputs": [
        {
          "output_type": "stream",
          "text": [
            "Accuracy - 0.969\n",
            " F1 score - 0.911\n",
            " AUC - 0.929\n"
          ],
          "name": "stdout"
        }
      ]
    },
    {
      "cell_type": "code",
      "metadata": {
        "colab": {
          "base_uri": "https://localhost:8080/"
        },
        "id": "JDTyPE51fXgS",
        "outputId": "0d80fa1e-9f27-47f6-8f8a-26aff8472fab"
      },
      "source": [
        "#Using Features obtained from LDA\n",
        "boost.fit(x_train_lda,y_train_lda)\n",
        "cross_val_score(boost,x_lda,y,cv=3)"
      ],
      "execution_count": 73,
      "outputs": [
        {
          "output_type": "execute_result",
          "data": {
            "text/plain": [
              "array([0.99877451, 0.99387255, 0.99877301])"
            ]
          },
          "metadata": {
            "tags": []
          },
          "execution_count": 73
        }
      ]
    },
    {
      "cell_type": "code",
      "metadata": {
        "colab": {
          "base_uri": "https://localhost:8080/"
        },
        "id": "qDQkRP66fijA",
        "outputId": "816b3af8-0add-4390-b8b3-0164b1633ef5"
      },
      "source": [
        "y_pred_dtc = boost.predict(x_test_lda)\n",
        "make_score(y_test_lda,y_pred_dtc)"
      ],
      "execution_count": 74,
      "outputs": [
        {
          "output_type": "stream",
          "text": [
            "Accuracy - 0.996\n",
            " F1 score - 0.989\n",
            " AUC - 0.998\n"
          ],
          "name": "stdout"
        }
      ]
    },
    {
      "cell_type": "code",
      "metadata": {
        "id": "e1U4NVCHfihS"
      },
      "source": [
        ""
      ],
      "execution_count": null,
      "outputs": []
    }
  ]
}